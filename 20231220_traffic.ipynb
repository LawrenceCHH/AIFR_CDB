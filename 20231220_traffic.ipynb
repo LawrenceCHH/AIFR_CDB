{
 "cells": [
  {
   "cell_type": "markdown",
   "metadata": {},
   "source": [
    "# Prediction 2 20231030"
   ]
  },
  {
   "cell_type": "code",
   "execution_count": 1,
   "metadata": {},
   "outputs": [
    {
     "name": "stderr",
     "output_type": "stream",
     "text": [
      "/opt/conda/lib/python3.10/site-packages/tqdm/auto.py:21: TqdmWarning: IProgress not found. Please update jupyter and ipywidgets. See https://ipywidgets.readthedocs.io/en/stable/user_install.html\n",
      "  from .autonotebook import tqdm as notebook_tqdm\n",
      "Explicitly passing a `revision` is encouraged when loading a model with custom code to ensure no malicious code has been contributed in a newer revision.\n"
     ]
    }
   ],
   "source": [
    "import os\n",
    "import re\n",
    "import torch\n",
    "from transformers import AutoConfig, AutoModel, AutoTokenizer\n",
    "import json\n",
    "import pandas as pd\n",
    "from tqdm import tqdm\n",
    "from sklearn.metrics import precision_recall_fscore_support, confusion_matrix\n",
    "from sklearn.metrics import accuracy_score\n",
    "from sklearn.metrics import accuracy_score, f1_score, precision_score, recall_score, classification_report, confusion_matrix\n",
    "import itertools\n",
    "from rouge_chinese import Rouge\n",
    "import jieba \n",
    "\n",
    "\n",
    "\n",
    "def load_glm_checkpoint(checkpoint_path, pre_seq_len=1024):\n",
    "    llm_path = \"/workspace/LLM\"\n",
    "    # Test local tokenizer 载入Tokenizer\n",
    "    # tokenizer = AutoTokenizer.from_pretrained(llm_path, trust_remote_code=True)\n",
    "    # config = AutoConfig.from_pretrained(llm_path, trust_remote_code=True, pre_seq_len=1024)\n",
    "    \n",
    "    config = AutoConfig.from_pretrained(\"THUDM/chatglm-6b\", trust_remote_code=True, pre_seq_len=pre_seq_len)\n",
    "\n",
    "    model = AutoModel.from_pretrained(llm_path, config=config, trust_remote_code=True)\n",
    "    print(\"Parameter Merging!\")\n",
    "    prefix_state_dict = torch.load(os.path.join(checkpoint_path, \"pytorch_model.bin\"))\n",
    "\n",
    "    new_prefix_state_dict = {}\n",
    "    for k, v in prefix_state_dict.items():\n",
    "        if k.startswith(\"transformer.prefix_encoder.\"):\n",
    "            new_prefix_state_dict[k[len(\"transformer.prefix_encoder.\"):]] = v\n",
    "    model.transformer.prefix_encoder.load_state_dict(new_prefix_state_dict)\n",
    "    print(\"Model Quantizationing!\")\n",
    "    model = model.quantize(4)\n",
    "    model = model.half().cuda()\n",
    "    model.transformer.prefix_encoder.float()\n",
    "    model = model.eval()\n",
    "    print(\"Model Loaded!\")\n",
    "    return model\n",
    "\n",
    "\n",
    "def classification_analysis(input_df_path, label_column_name, prediction_column_name):\n",
    "    analysis_df_path = input_df_path.split('.')[0]+'_analysis.csv'\n",
    "    input_df = pd.read_csv(input_df_path, encoding='utf-8-sig')\n",
    "\n",
    "    cartesian_product = [str(a) + str(b) for a, b in itertools.product(['precision_', 'recall_', 'f1_score_'], [\"無關\", \"摘要\", \"訴訟要件不足\"])]\n",
    "    if os.path.isfile(analysis_df_path):\n",
    "        analysis_df = pd.read_csv(analysis_df_path, encoding='utf-8-sig')\n",
    "    else:\n",
    "        analysis_df = pd.DataFrame(columns=['ckpt_name', 'confusion_matrix', 'accuracy_score']+cartesian_product)\n",
    "\n",
    "    y_tests = input_df[label_column_name].values.tolist()\n",
    "    y_preds = input_df[prediction_column_name].values.tolist()\n",
    "\n",
    "    conf_matrix = confusion_matrix(y_tests, y_preds, labels=[\"無關\", \"摘要\", \"訴訟要件不足\"])\n",
    "\n",
    "    # print('\\n', prediction_column_name, \":\")\n",
    "    # print('-----------------')\n",
    "    # print('DataFrame Length', len(input_df))\n",
    "    # print(conf_matrix)\n",
    "    \n",
    "    # Metrics calculation\n",
    "    acc = round(accuracy_score(y_tests, y_preds), 3)\n",
    "    precision_values = precision_score(y_tests, y_preds, average=None, labels=[\"無關\", \"摘要\", \"訴訟要件不足\"])\n",
    "    recall_values = recall_score(y_tests, y_preds, average=None, labels=[\"無關\", \"摘要\", \"訴訟要件不足\"])\n",
    "    f1_values = f1_score(y_tests, y_preds, average=None, labels=[\"無關\", \"摘要\", \"訴訟要件不足\"])\n",
    "\n",
    "    # print()\n",
    "    # print(\"accuracy_score\", acc)\n",
    "    # print(\"precision_score\\n\", *[\"{:.3f}  \".format(p) for p in precision_values])\n",
    "    # print(\"recall_score\\n\", *[\"{:.3f}  \".format(p) for p in recall_values])\n",
    "    # print(\"f1_score\\n\", *[\"{:.3f}  \".format(p) for p in f1_values])\n",
    "    # print('-----------------')\n",
    "    \n",
    "    # Saving the metrics into analysis_df\n",
    "    metrics_values = [\"{:.3f}\".format(p) for sublist in [precision_values, recall_values, f1_values] for p in sublist]\n",
    "    analysis_df.loc[len(analysis_df)] = {'ckpt_name': prediction_column_name, 'confusion_matrix':conf_matrix, 'accuracy_score': acc, **dict(zip(cartesian_product, metrics_values))}\n",
    "\n",
    "    # Save analysis_df to CSV\n",
    "    analysis_df.to_csv(analysis_df_path, index=False, encoding='utf-8-sig')\n",
    "\n",
    "def get_segmentation(input_text):\n",
    "    return ' '.join(jieba.cut(input_text)) \n",
    "def rouge_analysis(output_path):\n",
    "    rouge = Rouge()\n",
    "    format_df = pd.read_csv(output_path, encoding='utf-8-sig')\n",
    "\n",
    "    for index, row in format_df.iterrows():\n",
    "        ori_summary = row['ori_summary']\n",
    "        l_summary = row['l_summary']\n",
    "        c_summary = row['c_summary']\n",
    "\n",
    "        l_scores = rouge.get_scores(get_segmentation(l_summary), get_segmentation(ori_summary))\n",
    "        c_scores = rouge.get_scores(get_segmentation(c_summary), get_segmentation(ori_summary))\n",
    "        scores = {'l': l_scores, 'c': c_scores}\n",
    "        metrics = [\"rouge-1\", \"rouge-2\", \"rouge-l\"]\n",
    "        measures = [\"p\", \"r\", \"f\"]\n",
    "        for col in ['l', 'c']:\n",
    "            for metric in metrics:\n",
    "                for measure in measures:\n",
    "                    format_df.at[index, f'{col}_{metric}_{measure}'] = scores[col][0][metric][measure]\n",
    "                    # format_df.at[index, f'c_{metric}_{measure}'] = c_scores[0][metric][measure]\n",
    "\n",
    "\n",
    "    rounded = format_df.round(3)\n",
    "    output_path = output_path.split('.')[0]+'_rouge.csv'\n",
    "    rounded.to_csv(output_path, encoding='utf-8-sig', index = False)\n",
    "    \n",
    "# # 暫時用不到 ---Segementatioin between 事實(含) and 綜上所述、據上論斷\n",
    "# def segement_between_fact_above(jud):\n",
    "#     jud = jud.replace(\"\\n\", \"\").replace(\"\\u3000\", \"\").replace(\" \",\"\")\n",
    "#     # result = re.findall(\".+主 *文.+?(事 *實.+)(綜上所述|據上論斷)\", jud)\n",
    "#     result = re.search(\".+主 *文.+?(事 *實.+)(綜上所述|據上論斷|爰.*?審酌)\", jud)\n",
    "#     if result:\n",
    "#         result = result.group(1)\n",
    "#     # print(len(result.groups()))\n",
    "#     return result\n",
    "# def segement_exceptions(jud):\n",
    "#     jud = jud.replace(\"\\n\", \"\").replace(\"\\u3000\", \"\").replace(\" \",\"\")\n",
    "#     result = re.search(\"(事 *實.+如不服.+?。)|(公訴不受理.+如\\d*主\\d*文)\", jud)\n",
    "#     if result:\n",
    "#         result = result.group(result.lastindex)\n",
    "#     return result\n",
    "\n",
    "# def read_json(json_path):\n",
    "#     with open(json_path, \"r\", encoding=\"utf-8-sig\") as json_file:\n",
    "#         # json_list = json_file.readlines()\n",
    "#         json_list = [json.loads(line) for line in json_file]\n",
    "#         keys = [key for key in json_list[0].keys()]\n",
    "#         print(f\"json length:{len(json_list)}\\njson keys:{keys}\")\n",
    "#     return json_list\n",
    "\n",
    "tokenizer = AutoTokenizer.from_pretrained(\"THUDM/chatglm-6b\", trust_remote_code=True)\n"
   ]
  },
  {
   "cell_type": "code",
   "execution_count": 4,
   "metadata": {},
   "outputs": [
    {
     "name": "stderr",
     "output_type": "stream",
     "text": [
      "  0%|          | 0/20 [00:00<?, ?it/s]"
     ]
    },
    {
     "name": "stderr",
     "output_type": "stream",
     "text": [
      "Explicitly passing a `revision` is encouraged when loading a configuration with custom code to ensure no malicious code has been contributed in a newer revision.\n",
      "Explicitly passing a `revision` is encouraged when loading a model with custom code to ensure no malicious code has been contributed in a newer revision.\n",
      "Loading checkpoint shards: 100%|██████████| 8/8 [01:00<00:00,  7.54s/it]\n",
      "Some weights of ChatGLMForConditionalGeneration were not initialized from the model checkpoint at /workspace/LLM and are newly initialized: ['transformer.prefix_encoder.embedding.weight']\n",
      "You should probably TRAIN this model on a down-stream task to be able to use it for predictions and inference.\n"
     ]
    },
    {
     "name": "stdout",
     "output_type": "stream",
     "text": [
      "Parameter Merging!\n",
      "Model Quantizationing!\n"
     ]
    },
    {
     "name": "stderr",
     "output_type": "stream",
     "text": [
      "The dtype of attention mask (torch.int64) is not bool\n"
     ]
    },
    {
     "name": "stdout",
     "output_type": "stream",
     "text": [
      "Model Loaded!\n",
      "/workspace/output/20231108_6labels_jud100_classification_model_p304ins23n739_sum966-1024-2e-2-1000steps/checkpoint-1000\n"
     ]
    },
    {
     "name": "stderr",
     "output_type": "stream",
     "text": [
      "  5%|▌         | 1/20 [06:27<2:02:37, 387.24s/it]Explicitly passing a `revision` is encouraged when loading a configuration with custom code to ensure no malicious code has been contributed in a newer revision.\n",
      "Explicitly passing a `revision` is encouraged when loading a model with custom code to ensure no malicious code has been contributed in a newer revision.\n",
      "Loading checkpoint shards: 100%|██████████| 8/8 [00:10<00:00,  1.37s/it]\n",
      "Some weights of ChatGLMForConditionalGeneration were not initialized from the model checkpoint at /workspace/LLM and are newly initialized: ['transformer.prefix_encoder.embedding.weight']\n",
      "You should probably TRAIN this model on a down-stream task to be able to use it for predictions and inference.\n"
     ]
    },
    {
     "name": "stdout",
     "output_type": "stream",
     "text": [
      "Parameter Merging!\n",
      "Model Quantizationing!\n",
      "Model Loaded!\n",
      "/workspace/output/20231108_6labels_jud100_classification_model_p304ins23n739_sum966-1024-2e-2-1000steps/checkpoint-950\n"
     ]
    },
    {
     "name": "stderr",
     "output_type": "stream",
     "text": [
      " 10%|█         | 2/20 [12:05<1:47:31, 358.41s/it]Explicitly passing a `revision` is encouraged when loading a configuration with custom code to ensure no malicious code has been contributed in a newer revision.\n",
      "Explicitly passing a `revision` is encouraged when loading a model with custom code to ensure no malicious code has been contributed in a newer revision.\n",
      "Loading checkpoint shards: 100%|██████████| 8/8 [00:10<00:00,  1.30s/it]\n",
      "Some weights of ChatGLMForConditionalGeneration were not initialized from the model checkpoint at /workspace/LLM and are newly initialized: ['transformer.prefix_encoder.embedding.weight']\n",
      "You should probably TRAIN this model on a down-stream task to be able to use it for predictions and inference.\n"
     ]
    },
    {
     "name": "stdout",
     "output_type": "stream",
     "text": [
      "Parameter Merging!\n",
      "Model Quantizationing!\n",
      "Model Loaded!\n",
      "/workspace/output/20231108_6labels_jud100_classification_model_p304ins23n739_sum966-1024-2e-2-1000steps/checkpoint-900\n"
     ]
    },
    {
     "name": "stderr",
     "output_type": "stream",
     "text": [
      " 15%|█▌        | 3/20 [17:27<1:36:47, 341.65s/it]Explicitly passing a `revision` is encouraged when loading a configuration with custom code to ensure no malicious code has been contributed in a newer revision.\n",
      "Explicitly passing a `revision` is encouraged when loading a model with custom code to ensure no malicious code has been contributed in a newer revision.\n",
      "Loading checkpoint shards: 100%|██████████| 8/8 [00:10<00:00,  1.33s/it]\n",
      "Some weights of ChatGLMForConditionalGeneration were not initialized from the model checkpoint at /workspace/LLM and are newly initialized: ['transformer.prefix_encoder.embedding.weight']\n",
      "You should probably TRAIN this model on a down-stream task to be able to use it for predictions and inference.\n"
     ]
    },
    {
     "name": "stdout",
     "output_type": "stream",
     "text": [
      "Parameter Merging!\n",
      "Model Quantizationing!\n",
      "Model Loaded!\n",
      "/workspace/output/20231108_6labels_jud100_classification_model_p304ins23n739_sum966-1024-2e-2-1000steps/checkpoint-850\n"
     ]
    },
    {
     "name": "stderr",
     "output_type": "stream",
     "text": [
      " 20%|██        | 4/20 [22:46<1:28:43, 332.69s/it]Explicitly passing a `revision` is encouraged when loading a configuration with custom code to ensure no malicious code has been contributed in a newer revision.\n",
      "Explicitly passing a `revision` is encouraged when loading a model with custom code to ensure no malicious code has been contributed in a newer revision.\n",
      "Loading checkpoint shards: 100%|██████████| 8/8 [00:10<00:00,  1.26s/it]\n",
      "Some weights of ChatGLMForConditionalGeneration were not initialized from the model checkpoint at /workspace/LLM and are newly initialized: ['transformer.prefix_encoder.embedding.weight']\n",
      "You should probably TRAIN this model on a down-stream task to be able to use it for predictions and inference.\n"
     ]
    },
    {
     "name": "stdout",
     "output_type": "stream",
     "text": [
      "Parameter Merging!\n",
      "Model Quantizationing!\n",
      "Model Loaded!\n",
      "/workspace/output/20231108_6labels_jud100_classification_model_p304ins23n739_sum966-1024-2e-2-1000steps/checkpoint-800\n"
     ]
    },
    {
     "name": "stderr",
     "output_type": "stream",
     "text": [
      " 25%|██▌       | 5/20 [28:00<1:21:30, 326.02s/it]Explicitly passing a `revision` is encouraged when loading a configuration with custom code to ensure no malicious code has been contributed in a newer revision.\n",
      "Explicitly passing a `revision` is encouraged when loading a model with custom code to ensure no malicious code has been contributed in a newer revision.\n",
      "Loading checkpoint shards: 100%|██████████| 8/8 [00:10<00:00,  1.32s/it]\n",
      "Some weights of ChatGLMForConditionalGeneration were not initialized from the model checkpoint at /workspace/LLM and are newly initialized: ['transformer.prefix_encoder.embedding.weight']\n",
      "You should probably TRAIN this model on a down-stream task to be able to use it for predictions and inference.\n"
     ]
    },
    {
     "name": "stdout",
     "output_type": "stream",
     "text": [
      "Parameter Merging!\n",
      "Model Quantizationing!\n",
      "Model Loaded!\n",
      "/workspace/output/20231108_6labels_jud100_classification_model_p304ins23n739_sum966-1024-2e-2-1000steps/checkpoint-750\n"
     ]
    },
    {
     "name": "stderr",
     "output_type": "stream",
     "text": [
      " 30%|███       | 6/20 [33:17<1:15:21, 322.97s/it]Explicitly passing a `revision` is encouraged when loading a configuration with custom code to ensure no malicious code has been contributed in a newer revision.\n",
      "Explicitly passing a `revision` is encouraged when loading a model with custom code to ensure no malicious code has been contributed in a newer revision.\n",
      "Loading checkpoint shards: 100%|██████████| 8/8 [00:10<00:00,  1.28s/it]\n",
      "Some weights of ChatGLMForConditionalGeneration were not initialized from the model checkpoint at /workspace/LLM and are newly initialized: ['transformer.prefix_encoder.embedding.weight']\n",
      "You should probably TRAIN this model on a down-stream task to be able to use it for predictions and inference.\n"
     ]
    },
    {
     "name": "stdout",
     "output_type": "stream",
     "text": [
      "Parameter Merging!\n",
      "Model Quantizationing!\n",
      "Model Loaded!\n",
      "/workspace/output/20231108_6labels_jud100_classification_model_p304ins23n739_sum966-1024-2e-2-1000steps/checkpoint-700\n"
     ]
    },
    {
     "name": "stderr",
     "output_type": "stream",
     "text": [
      " 35%|███▌      | 7/20 [38:34<1:09:31, 320.91s/it]Explicitly passing a `revision` is encouraged when loading a configuration with custom code to ensure no malicious code has been contributed in a newer revision.\n",
      "Explicitly passing a `revision` is encouraged when loading a model with custom code to ensure no malicious code has been contributed in a newer revision.\n",
      "Loading checkpoint shards: 100%|██████████| 8/8 [00:10<00:00,  1.32s/it]\n",
      "Some weights of ChatGLMForConditionalGeneration were not initialized from the model checkpoint at /workspace/LLM and are newly initialized: ['transformer.prefix_encoder.embedding.weight']\n",
      "You should probably TRAIN this model on a down-stream task to be able to use it for predictions and inference.\n"
     ]
    },
    {
     "name": "stdout",
     "output_type": "stream",
     "text": [
      "Parameter Merging!\n",
      "Model Quantizationing!\n",
      "Model Loaded!\n",
      "/workspace/output/20231108_6labels_jud100_classification_model_p304ins23n739_sum966-1024-2e-2-1000steps/checkpoint-650\n"
     ]
    },
    {
     "name": "stderr",
     "output_type": "stream",
     "text": [
      " 40%|████      | 8/20 [43:52<1:04:03, 320.26s/it]Explicitly passing a `revision` is encouraged when loading a configuration with custom code to ensure no malicious code has been contributed in a newer revision.\n",
      "Explicitly passing a `revision` is encouraged when loading a model with custom code to ensure no malicious code has been contributed in a newer revision.\n",
      "Loading checkpoint shards: 100%|██████████| 8/8 [00:10<00:00,  1.28s/it]\n",
      "Some weights of ChatGLMForConditionalGeneration were not initialized from the model checkpoint at /workspace/LLM and are newly initialized: ['transformer.prefix_encoder.embedding.weight']\n",
      "You should probably TRAIN this model on a down-stream task to be able to use it for predictions and inference.\n"
     ]
    },
    {
     "name": "stdout",
     "output_type": "stream",
     "text": [
      "Parameter Merging!\n",
      "Model Quantizationing!\n",
      "Model Loaded!\n",
      "/workspace/output/20231108_6labels_jud100_classification_model_p304ins23n739_sum966-1024-2e-2-1000steps/checkpoint-600\n"
     ]
    },
    {
     "name": "stderr",
     "output_type": "stream",
     "text": [
      " 45%|████▌     | 9/20 [49:09<58:29, 319.04s/it]  Explicitly passing a `revision` is encouraged when loading a configuration with custom code to ensure no malicious code has been contributed in a newer revision.\n",
      "Explicitly passing a `revision` is encouraged when loading a model with custom code to ensure no malicious code has been contributed in a newer revision.\n",
      "Loading checkpoint shards: 100%|██████████| 8/8 [00:10<00:00,  1.36s/it]\n",
      "Some weights of ChatGLMForConditionalGeneration were not initialized from the model checkpoint at /workspace/LLM and are newly initialized: ['transformer.prefix_encoder.embedding.weight']\n",
      "You should probably TRAIN this model on a down-stream task to be able to use it for predictions and inference.\n"
     ]
    },
    {
     "name": "stdout",
     "output_type": "stream",
     "text": [
      "Parameter Merging!\n",
      "Model Quantizationing!\n",
      "Model Loaded!\n",
      "/workspace/output/20231108_6labels_jud100_classification_model_p304ins23n739_sum966-1024-2e-2-1000steps/checkpoint-550\n"
     ]
    },
    {
     "name": "stderr",
     "output_type": "stream",
     "text": [
      " 50%|█████     | 10/20 [54:25<53:01, 318.18s/it]Explicitly passing a `revision` is encouraged when loading a configuration with custom code to ensure no malicious code has been contributed in a newer revision.\n",
      "Explicitly passing a `revision` is encouraged when loading a model with custom code to ensure no malicious code has been contributed in a newer revision.\n",
      "Loading checkpoint shards: 100%|██████████| 8/8 [00:10<00:00,  1.32s/it]\n",
      "Some weights of ChatGLMForConditionalGeneration were not initialized from the model checkpoint at /workspace/LLM and are newly initialized: ['transformer.prefix_encoder.embedding.weight']\n",
      "You should probably TRAIN this model on a down-stream task to be able to use it for predictions and inference.\n"
     ]
    },
    {
     "name": "stdout",
     "output_type": "stream",
     "text": [
      "Parameter Merging!\n",
      "Model Quantizationing!\n",
      "Model Loaded!\n",
      "/workspace/output/20231108_6labels_jud100_classification_model_p304ins23n739_sum966-1024-2e-2-1000steps/checkpoint-500\n"
     ]
    },
    {
     "name": "stderr",
     "output_type": "stream",
     "text": [
      " 55%|█████▌    | 11/20 [59:43<47:42, 318.10s/it]Explicitly passing a `revision` is encouraged when loading a configuration with custom code to ensure no malicious code has been contributed in a newer revision.\n",
      "Explicitly passing a `revision` is encouraged when loading a model with custom code to ensure no malicious code has been contributed in a newer revision.\n",
      "Loading checkpoint shards: 100%|██████████| 8/8 [00:11<00:00,  1.41s/it]\n",
      "Some weights of ChatGLMForConditionalGeneration were not initialized from the model checkpoint at /workspace/LLM and are newly initialized: ['transformer.prefix_encoder.embedding.weight']\n",
      "You should probably TRAIN this model on a down-stream task to be able to use it for predictions and inference.\n"
     ]
    },
    {
     "name": "stdout",
     "output_type": "stream",
     "text": [
      "Parameter Merging!\n",
      "Model Quantizationing!\n",
      "Model Loaded!\n",
      "/workspace/output/20231108_6labels_jud100_classification_model_p304ins23n739_sum966-1024-2e-2-1000steps/checkpoint-450\n"
     ]
    },
    {
     "name": "stderr",
     "output_type": "stream",
     "text": [
      " 60%|██████    | 12/20 [1:05:01<42:25, 318.16s/it]Explicitly passing a `revision` is encouraged when loading a configuration with custom code to ensure no malicious code has been contributed in a newer revision.\n",
      "Explicitly passing a `revision` is encouraged when loading a model with custom code to ensure no malicious code has been contributed in a newer revision.\n",
      "Loading checkpoint shards: 100%|██████████| 8/8 [00:10<00:00,  1.36s/it]\n",
      "Some weights of ChatGLMForConditionalGeneration were not initialized from the model checkpoint at /workspace/LLM and are newly initialized: ['transformer.prefix_encoder.embedding.weight']\n",
      "You should probably TRAIN this model on a down-stream task to be able to use it for predictions and inference.\n"
     ]
    },
    {
     "name": "stdout",
     "output_type": "stream",
     "text": [
      "Parameter Merging!\n",
      "Model Quantizationing!\n",
      "Model Loaded!\n",
      "/workspace/output/20231108_6labels_jud100_classification_model_p304ins23n739_sum966-1024-2e-2-1000steps/checkpoint-400\n"
     ]
    },
    {
     "name": "stderr",
     "output_type": "stream",
     "text": [
      " 65%|██████▌   | 13/20 [1:10:22<37:12, 318.91s/it]Explicitly passing a `revision` is encouraged when loading a configuration with custom code to ensure no malicious code has been contributed in a newer revision.\n",
      "Explicitly passing a `revision` is encouraged when loading a model with custom code to ensure no malicious code has been contributed in a newer revision.\n",
      "Loading checkpoint shards: 100%|██████████| 8/8 [00:10<00:00,  1.31s/it]\n",
      "Some weights of ChatGLMForConditionalGeneration were not initialized from the model checkpoint at /workspace/LLM and are newly initialized: ['transformer.prefix_encoder.embedding.weight']\n",
      "You should probably TRAIN this model on a down-stream task to be able to use it for predictions and inference.\n"
     ]
    },
    {
     "name": "stdout",
     "output_type": "stream",
     "text": [
      "Parameter Merging!\n",
      "Model Quantizationing!\n",
      "Model Loaded!\n",
      "/workspace/output/20231108_6labels_jud100_classification_model_p304ins23n739_sum966-1024-2e-2-1000steps/checkpoint-350\n"
     ]
    },
    {
     "name": "stderr",
     "output_type": "stream",
     "text": [
      " 70%|███████   | 14/20 [1:15:40<31:52, 318.68s/it]Explicitly passing a `revision` is encouraged when loading a configuration with custom code to ensure no malicious code has been contributed in a newer revision.\n",
      "Explicitly passing a `revision` is encouraged when loading a model with custom code to ensure no malicious code has been contributed in a newer revision.\n",
      "Loading checkpoint shards: 100%|██████████| 8/8 [00:09<00:00,  1.24s/it]\n",
      "Some weights of ChatGLMForConditionalGeneration were not initialized from the model checkpoint at /workspace/LLM and are newly initialized: ['transformer.prefix_encoder.embedding.weight']\n",
      "You should probably TRAIN this model on a down-stream task to be able to use it for predictions and inference.\n"
     ]
    },
    {
     "name": "stdout",
     "output_type": "stream",
     "text": [
      "Parameter Merging!\n",
      "Model Quantizationing!\n",
      "Model Loaded!\n",
      "/workspace/output/20231108_6labels_jud100_classification_model_p304ins23n739_sum966-1024-2e-2-1000steps/checkpoint-300\n"
     ]
    },
    {
     "name": "stderr",
     "output_type": "stream",
     "text": [
      " 75%|███████▌  | 15/20 [1:20:55<26:27, 317.58s/it]Explicitly passing a `revision` is encouraged when loading a configuration with custom code to ensure no malicious code has been contributed in a newer revision.\n",
      "Explicitly passing a `revision` is encouraged when loading a model with custom code to ensure no malicious code has been contributed in a newer revision.\n",
      "Loading checkpoint shards: 100%|██████████| 8/8 [00:10<00:00,  1.29s/it]\n",
      "Some weights of ChatGLMForConditionalGeneration were not initialized from the model checkpoint at /workspace/LLM and are newly initialized: ['transformer.prefix_encoder.embedding.weight']\n",
      "You should probably TRAIN this model on a down-stream task to be able to use it for predictions and inference.\n"
     ]
    },
    {
     "name": "stdout",
     "output_type": "stream",
     "text": [
      "Parameter Merging!\n",
      "Model Quantizationing!\n",
      "Model Loaded!\n",
      "/workspace/output/20231108_6labels_jud100_classification_model_p304ins23n739_sum966-1024-2e-2-1000steps/checkpoint-250\n"
     ]
    },
    {
     "name": "stderr",
     "output_type": "stream",
     "text": [
      " 80%|████████  | 16/20 [1:26:12<21:09, 317.33s/it]Explicitly passing a `revision` is encouraged when loading a configuration with custom code to ensure no malicious code has been contributed in a newer revision.\n",
      "Explicitly passing a `revision` is encouraged when loading a model with custom code to ensure no malicious code has been contributed in a newer revision.\n",
      "Loading checkpoint shards: 100%|██████████| 8/8 [00:10<00:00,  1.27s/it]\n",
      "Some weights of ChatGLMForConditionalGeneration were not initialized from the model checkpoint at /workspace/LLM and are newly initialized: ['transformer.prefix_encoder.embedding.weight']\n",
      "You should probably TRAIN this model on a down-stream task to be able to use it for predictions and inference.\n"
     ]
    },
    {
     "name": "stdout",
     "output_type": "stream",
     "text": [
      "Parameter Merging!\n",
      "Model Quantizationing!\n",
      "Model Loaded!\n",
      "/workspace/output/20231108_6labels_jud100_classification_model_p304ins23n739_sum966-1024-2e-2-1000steps/checkpoint-200\n"
     ]
    },
    {
     "name": "stderr",
     "output_type": "stream",
     "text": [
      " 85%|████████▌ | 17/20 [1:31:28<15:51, 317.12s/it]Explicitly passing a `revision` is encouraged when loading a configuration with custom code to ensure no malicious code has been contributed in a newer revision.\n",
      "Explicitly passing a `revision` is encouraged when loading a model with custom code to ensure no malicious code has been contributed in a newer revision.\n",
      "Loading checkpoint shards: 100%|██████████| 8/8 [00:10<00:00,  1.31s/it]\n",
      "Some weights of ChatGLMForConditionalGeneration were not initialized from the model checkpoint at /workspace/LLM and are newly initialized: ['transformer.prefix_encoder.embedding.weight']\n",
      "You should probably TRAIN this model on a down-stream task to be able to use it for predictions and inference.\n"
     ]
    },
    {
     "name": "stdout",
     "output_type": "stream",
     "text": [
      "Parameter Merging!\n",
      "Model Quantizationing!\n",
      "Model Loaded!\n",
      "/workspace/output/20231108_6labels_jud100_classification_model_p304ins23n739_sum966-1024-2e-2-1000steps/checkpoint-150\n"
     ]
    },
    {
     "name": "stderr",
     "output_type": "stream",
     "text": [
      " 90%|█████████ | 18/20 [1:36:43<10:32, 316.47s/it]Explicitly passing a `revision` is encouraged when loading a configuration with custom code to ensure no malicious code has been contributed in a newer revision.\n",
      "Explicitly passing a `revision` is encouraged when loading a model with custom code to ensure no malicious code has been contributed in a newer revision.\n",
      "Loading checkpoint shards: 100%|██████████| 8/8 [00:10<00:00,  1.28s/it]\n",
      "Some weights of ChatGLMForConditionalGeneration were not initialized from the model checkpoint at /workspace/LLM and are newly initialized: ['transformer.prefix_encoder.embedding.weight']\n",
      "You should probably TRAIN this model on a down-stream task to be able to use it for predictions and inference.\n"
     ]
    },
    {
     "name": "stdout",
     "output_type": "stream",
     "text": [
      "Parameter Merging!\n",
      "Model Quantizationing!\n",
      "Model Loaded!\n",
      "/workspace/output/20231108_6labels_jud100_classification_model_p304ins23n739_sum966-1024-2e-2-1000steps/checkpoint-100\n"
     ]
    },
    {
     "name": "stderr",
     "output_type": "stream",
     "text": [
      " 95%|█████████▌| 19/20 [1:41:57<05:15, 315.69s/it]Explicitly passing a `revision` is encouraged when loading a configuration with custom code to ensure no malicious code has been contributed in a newer revision.\n",
      "Explicitly passing a `revision` is encouraged when loading a model with custom code to ensure no malicious code has been contributed in a newer revision.\n",
      "Loading checkpoint shards: 100%|██████████| 8/8 [00:10<00:00,  1.29s/it]\n",
      "Some weights of ChatGLMForConditionalGeneration were not initialized from the model checkpoint at /workspace/LLM and are newly initialized: ['transformer.prefix_encoder.embedding.weight']\n",
      "You should probably TRAIN this model on a down-stream task to be able to use it for predictions and inference.\n"
     ]
    },
    {
     "name": "stdout",
     "output_type": "stream",
     "text": [
      "Parameter Merging!\n",
      "Model Quantizationing!\n",
      "Model Loaded!\n",
      "/workspace/output/20231108_6labels_jud100_classification_model_p304ins23n739_sum966-1024-2e-2-1000steps/checkpoint-50\n"
     ]
    },
    {
     "name": "stderr",
     "output_type": "stream",
     "text": [
      "100%|██████████| 20/20 [1:47:11<00:00, 321.57s/it]\n"
     ]
    }
   ],
   "source": [
    "# Classification\n",
    "import pandas as pd\n",
    "from tqdm import tqdm\n",
    "import random\n",
    "from datetime import datetime\n",
    "import pytz\n",
    "\n",
    "\n",
    "# 需設定\n",
    "ckpt_steps = 50\n",
    "init_ckpt = 50\n",
    "final_ckpt = 1000\n",
    "# checkpoint_dir_path = \"/workspace/output/20231026_classfication-chatglm-6b-pt-1024-2e-2-8000steps-positives-2400steps\"\n",
    "checkpoint_dir_path = \"/workspace/output/20231108_6labels_jud100_classification_model_p304ins23n739_sum966-1024-2e-2-1000steps\"\n",
    "\n",
    "\n",
    "taiwan = pytz.timezone('Asia/Taipei')\n",
    "current_time = datetime.now(taiwan)\n",
    "datetime = current_time.strftime('%Y%m%d-%H%M%S')\n",
    "# cls_prediction_output_csv_path = '/workspace/FP/5_prediction/{}_8000steps_final{}steps_classification_predictions.csv'.format(datetime, final_ckpt)\n",
    "cls_prediction_output_csv_path = '/workspace/FP/7_sixlabels_model_100juds_pos304_neg_608_total912sentences/{}_6labels_jud100_classification_model_p304ins23n739_sum966_predictions.csv'.format(datetime, final_ckpt)\n",
    "classification_format_path = '/workspace/FP/3_classification_model/20231030_classification_predictions_format.csv'\n",
    "classification_token_limit = 1000\n",
    "\n",
    "testing_dataset = [180, 43, 64, 190, 206, 30, 17, 211, 157, 37, 214, 59, 205, 222, 268, 240, 60, 21, 207, 242, 101, 254, 48, 120, 78, 158]\n",
    "classification_df = pd.read_csv(classification_format_path, encoding='utf-8-sig')\n",
    "# for ckpt in tqdm(range(init_ckpt, final_ckpt+ckpt_steps, ckpt_steps)):\n",
    "for ckpt in tqdm(range(final_ckpt, init_ckpt-ckpt_steps, -ckpt_steps)):\n",
    "\n",
    "    merged_model = load_glm_checkpoint(checkpoint_dir_path+\"/checkpoint-{}\".format(ckpt), 1024)\n",
    "    print(checkpoint_dir_path+\"/checkpoint-{}\".format(ckpt))\n",
    "    for jud_index in testing_dataset:\n",
    "        sub_df = classification_df[classification_df['jud_index']==jud_index]\n",
    "        for index, row in sub_df.iterrows():\n",
    "            sentence = classification_df.iloc[index]['sentence'][:classification_token_limit]\n",
    "            label = classification_df.iloc[index]['label']\n",
    "            prediction, history = merged_model.chat(tokenizer, sentence, history=[])\n",
    "            summary_columns = ['事實', '爭點', '心證', '量刑考量']\n",
    "            pred_trasnformation = prediction\n",
    "            if prediction in summary_columns:\n",
    "                pred_trasnformation = '摘要'\n",
    "            # prediction = random.choice(['無關', '摘要', '訴訟要件不足'])\n",
    "            if label==pred_trasnformation:\n",
    "                error = False\n",
    "            else:\n",
    "                error = True\n",
    "            classification_df.loc[index, '{}-6labels'.format(ckpt)] = prediction\n",
    "            classification_df.loc[index, '{}-3labels_transformation-prediction'.format(ckpt)] = pred_trasnformation\n",
    "            classification_df.loc[index, '{}-error'.format(ckpt)] = error\n",
    "        classification_df.to_csv(cls_prediction_output_csv_path, encoding='utf-8-sig', index = False)\n",
    "    classification_analysis(cls_prediction_output_csv_path, 'label', '{}-3labels_transformation-prediction'.format(ckpt))\n",
    "\n"
   ]
  },
  {
   "cell_type": "code",
   "execution_count": 5,
   "metadata": {},
   "outputs": [
    {
     "name": "stdout",
     "output_type": "stream",
     "text": [
      "/workspace/FP\n",
      "[main 8f8de32] add 6labels_jud100 predictions\n",
      " 3 files changed, 687 insertions(+), 1453 deletions(-)\n",
      " create mode 100644 7_sixlabels_model_100juds_pos304_neg_608_total912sentences/20231109-103154_6labels_jud100_classification_model_p304ins23n739_sum966_predictions.csv\n",
      " create mode 100644 7_sixlabels_model_100juds_pos304_neg_608_total912sentences/20231109-103154_6labels_jud100_classification_model_p304ins23n739_sum966_predictions_analysis.csv\n",
      "Enumerating objects: 9, done.\n",
      "Counting objects: 100% (9/9), done.\n",
      "Delta compression using up to 24 threads\n",
      "Compressing objects: 100% (6/6), done.\n",
      "Writing objects: 100% (6/6), 60.00 KiB | 2.40 MiB/s, done.\n",
      "Total 6 (delta 3), reused 0 (delta 0)\n",
      "remote: Resolving deltas: 100% (3/3), completed with 3 local objects.\u001b[K\n",
      "To https://github.com/LawrenceCHH/FP.git\n",
      "   b58ddbd..8f8de32  main -> main\n"
     ]
    }
   ],
   "source": [
    "%cd /workspace/FP\n",
    "!git add .\n",
    "!git commit -m \"add 6labels_jud100 predictions\"\n",
    "!git push origin main"
   ]
  },
  {
   "cell_type": "code",
   "execution_count": 3,
   "metadata": {},
   "outputs": [],
   "source": [
    "classification_analysis('/workspace/FP/3_classification_model/20231028_8000_classification_predictions_full.csv', 'label', 'prediction'.format())"
   ]
  },
  {
   "cell_type": "code",
   "execution_count": 90,
   "metadata": {},
   "outputs": [],
   "source": [
    "# Summarization\n",
    "import pandas as pd\n",
    "\n",
    "# 輸入最好的分類ckpt數字\n",
    "target_ckpt_num = 50\n",
    "format_csv_path = '/workspace/FP/4_summarization_model/20231030_1600_summarization_predictions_rouge_format.csv'\n",
    "classification_csv_path = cls_prediction_output_csv_path\n",
    "sum_output_path = cls_prediction_output_csv_path.split('.')[0]+f'-ckpt{target_ckpt_num}'+'_1600_summarization_predictions.csv'\n",
    "\n",
    "format_df = pd.read_csv(format_csv_path, encoding='utf-8-sig')\n",
    "cdf = pd.read_csv(classification_csv_path, encoding='utf-8-sig')\n",
    "testing_dataset = [180, 43, 64, 190, 206, 30, 17, 211, 157, 37, 214, 59, 205, 222, 268, 240, 60, 21, 207, 242, 101, 254, 48, 120, 78, 158]\n",
    "\n",
    "for jud_index in testing_dataset:\n",
    "   \n",
    "    subc_df = cdf[cdf['jud_index']==jud_index]\n",
    "    subc_df = subc_df[subc_df[f'{target_ckpt_num}-prediction'].isin(['摘要', '訴訟要件不足'])]\n",
    "    \n",
    "    c_content = ''.join(subc_df['sentence'].values.tolist())\n",
    "    if len(c_content) == 0:\n",
    "        c_prediction = \"輸入為空\"\n",
    "    else:\n",
    "        # c_prediction, history = merged_model.chat(tokenizer, c_content, history=[])\n",
    "        c_prediction = \"c\"\n",
    "    format_df.loc[format_df['jud_index']==jud_index, 'classified'] = c_content\n",
    "    format_df.loc[format_df['jud_index']==jud_index, 'c_summary'] = c_prediction\n",
    "    format_df.to_csv(sum_output_path, encoding='utf-8-sig', index = False)\n",
    "\n",
    "rouge_analysis(sum_output_path)"
   ]
  },
  {
   "cell_type": "markdown",
   "metadata": {},
   "source": [
    "# Preprocessing 2 20231019"
   ]
  },
  {
   "cell_type": "code",
   "execution_count": 8,
   "metadata": {},
   "outputs": [],
   "source": [
    "import matplotlib.pyplot as plt\n",
    "import json\n",
    "import pandas as pd\n",
    "\n",
    "def read_glm_json(file_path):\n",
    "    with open(file_path, \"r\", encoding=\"utf-8\") as json_file:\n",
    "        data, labels = zip(*[[json.loads(line)['content'], json.loads(line)['summary']] for line in json_file])\n",
    "    return [data, labels]\n",
    "def output_list_to_csv(des_csv_path, input_list):\n",
    "    df = pd.DataFrame({'content': input_list[0], 'summary': input_list[1]})\n",
    "    df.to_csv(des_csv_path, index=False, encoding='utf-8-sig')\n",
    "    return df\n",
    "def draw_datasets_bar(dataset_list, dataset_name):\n",
    "    lengths = [len(s) for s in dataset_list]\n",
    "    average_lengths = sum(lengths)/len(lengths)\n",
    "    sorted_lengths = sorted(lengths)\n",
    "    max_lengths = sorted_lengths[-1]\n",
    "    min_lengths = sorted_lengths[0]\n",
    "    print(dataset_name)\n",
    "    print(f\"average: {average_lengths}\")\n",
    "    print(f\"max: {max_lengths}\")\n",
    "    print(f\"min: {min_lengths}\")\n",
    "\n",
    "    # Create a histogram of the string lengths\n",
    "    plt.bar(range(len(dataset_list)), lengths)\n",
    "\n",
    "    # Add labels and title\n",
    "    plt.xlabel('Strings')\n",
    "    plt.ylabel('Length')\n",
    "    plt.title(f'Length of strings in {dataset_name}')\n",
    "\n",
    "    # Add tick labels for x-axis\n",
    "    # First arg means location, Second arg means label on that location\n",
    "    plt.xticks(range(len(lengths)), range(len(lengths)))\n",
    "\n",
    "    # Show the plot\n",
    "    plt.show()\n",
    "def over_length(text_length, dataset):\n",
    "    \n",
    "    return sum([1 for content in dataset if len(content) > text_length])"
   ]
  },
  {
   "cell_type": "code",
   "execution_count": 16,
   "metadata": {},
   "outputs": [
    {
     "name": "stdout",
     "output_type": "stream",
     "text": [
      "Text length>250: 18\n",
      "Text length>500: 3\n",
      "Text length>750: 0\n",
      "Text length>1000: 0\n",
      "Text length>1500: 0\n",
      "Text length>2000: 0\n",
      "9\n",
      "train_summarization\n",
      "average: 338.9230769230769\n",
      "max: 698\n",
      "min: 69\n"
     ]
    },
    {
     "data": {
      "image/png": "[encoded data removed]",
      "text/plain": [
       "<Figure size 640x480 with 1 Axes>"
      ]
     },
     "metadata": {},
     "output_type": "display_data"
    }
   ],
   "source": [
    "# 20231109 test\n",
    "train_path = '/workspace/FP/7_sixlabels_model_100juds_pos304_neg_608_total912sentences/20231109_6labels_jud100_preds_jud240summarization_testing.json'\n",
    "train = read_glm_json(train_path)\n",
    "content = train[1]\n",
    "print(\"Text length>250:\", over_length(250, content))\n",
    "print(\"Text length>500:\", over_length(500, content))\n",
    "print(\"Text length>750:\", over_length(750, content))\n",
    "print(\"Text length>1000:\", over_length(1000, content))\n",
    "print(\"Text length>1500:\", over_length(1500, content))\n",
    "print(\"Text length>2000:\", over_length(2000, content))\n",
    "the_longest = max((len(text), index) for index, text in enumerate(content))[1]\n",
    "print(the_longest)\n",
    "draw_datasets_bar(content, \"train_summarization\")"
   ]
  },
  {
   "cell_type": "code",
   "execution_count": 12,
   "metadata": {},
   "outputs": [
    {
     "name": "stdout",
     "output_type": "stream",
     "text": [
      "Text length>250: 237\n",
      "Text length>500: 225\n",
      "Text length>750: 192\n",
      "Text length>1000: 116\n",
      "Text length>1500: 27\n",
      "Text length>2000: 10\n",
      "26\n",
      "train_summarization\n",
      "average: 1044.9541666666667\n",
      "max: 2772\n",
      "min: 165\n"
     ]
    },
    {
     "data": {
      "image/png": "[encoded data removed]",
      "text/plain": [
       "<Figure size 640x480 with 1 Axes>"
      ]
     },
     "metadata": {},
     "output_type": "display_data"
    }
   ],
   "source": [
    "# 20231109 content\n",
    "train_path = '/workspace/FP/7_sixlabels_model_100juds_pos304_neg_608_total912sentences/20231109_6labels_jud100_preds_jud240summarization_training.json'\n",
    "train = read_glm_json(train_path)\n",
    "content = train[0]\n",
    "print(\"Text length>250:\", over_length(250, content))\n",
    "print(\"Text length>500:\", over_length(500, content))\n",
    "print(\"Text length>750:\", over_length(750, content))\n",
    "print(\"Text length>1000:\", over_length(1000, content))\n",
    "print(\"Text length>1500:\", over_length(1500, content))\n",
    "print(\"Text length>2000:\", over_length(2000, content))\n",
    "the_longest = max((len(text), index) for index, text in enumerate(content))[1]\n",
    "print(the_longest)\n",
    "draw_datasets_bar(content, \"train_summarization\")"
   ]
  },
  {
   "cell_type": "code",
   "execution_count": 10,
   "metadata": {},
   "outputs": [
    {
     "name": "stdout",
     "output_type": "stream",
     "text": [
      "Text length>250: 200\n",
      "Text length>500: 77\n",
      "Text length>750: 20\n",
      "Text length>1000: 6\n",
      "Text length>1500: 1\n",
      "Text length>2000: 0\n",
      "0\n",
      "train_summarization\n",
      "average: 446.0625\n",
      "max: 1610\n",
      "min: 55\n"
     ]
    },
    {
     "data": {
      "image/png": "[encoded data removed]",
      "text/plain": [
       "<Figure size 640x480 with 1 Axes>"
      ]
     },
     "metadata": {},
     "output_type": "display_data"
    }
   ],
   "source": [
    "# 20231109 summary\n",
    "train_path = '/workspace/FP/7_sixlabels_model_100juds_pos304_neg_608_total912sentences/20231109_6labels_jud100_preds_jud240summarization_training.json'\n",
    "train = read_glm_json(train_path)\n",
    "content = train[1]\n",
    "print(\"Text length>250:\", over_length(250, content))\n",
    "print(\"Text length>500:\", over_length(500, content))\n",
    "print(\"Text length>750:\", over_length(750, content))\n",
    "print(\"Text length>1000:\", over_length(1000, content))\n",
    "print(\"Text length>1500:\", over_length(1500, content))\n",
    "print(\"Text length>2000:\", over_length(2000, content))\n",
    "the_longest = max((len(text), index) for index, text in enumerate(content))[1]\n",
    "print(the_longest)\n",
    "draw_datasets_bar(content, \"train_summarization\")"
   ]
  },
  {
   "cell_type": "code",
   "execution_count": 5,
   "metadata": {},
   "outputs": [
    {
     "name": "stdout",
     "output_type": "stream",
     "text": [
      "Text length>250: 220\n",
      "Text length>500: 161\n",
      "Text length>750: 90\n",
      "Text length>1000: 27\n",
      "Text length>1500: 6\n",
      "Text length>2000: 3\n",
      "181\n",
      "train_summarization\n",
      "average: 662.375\n",
      "max: 2400\n",
      "min: 63\n"
     ]
    },
    {
     "data": {
      "image/png": "[encoded data removed]",
      "text/plain": [
       "<Figure size 640x480 with 1 Axes>"
      ]
     },
     "metadata": {},
     "output_type": "display_data"
    }
   ],
   "source": [
    "train_path = '/workspace/FP/4_summarization_model/20231028_merge_replaced_human_updated_splitted_auto_labeled_summarization_training.json'\n",
    "train = read_glm_json(train_path)\n",
    "content = train[0]\n",
    "print(\"Text length>250:\", over_length(250, content))\n",
    "print(\"Text length>500:\", over_length(500, content))\n",
    "print(\"Text length>750:\", over_length(750, content))\n",
    "print(\"Text length>1000:\", over_length(1000, content))\n",
    "print(\"Text length>1500:\", over_length(1500, content))\n",
    "print(\"Text length>2000:\", over_length(2000, content))\n",
    "the_longest = max((len(text), index) for index, text in enumerate(content))[1]\n",
    "print(the_longest)\n",
    "draw_datasets_bar(content, \"train_summarization\")"
   ]
  },
  {
   "cell_type": "code",
   "execution_count": 6,
   "metadata": {},
   "outputs": [
    {
     "name": "stdout",
     "output_type": "stream",
     "text": [
      "Text length>250: 199\n",
      "Text length>500: 77\n",
      "Text length>750: 20\n",
      "Text length>1000: 6\n",
      "Text length>1500: 1\n",
      "Text length>2000: 0\n",
      "177\n",
      "train_summarization\n",
      "average: 445.4875\n",
      "max: 1610\n",
      "min: 55\n"
     ]
    },
    {
     "data": {
      "image/png": "[encoded data removed]",
      "text/plain": [
       "<Figure size 640x480 with 1 Axes>"
      ]
     },
     "metadata": {},
     "output_type": "display_data"
    }
   ],
   "source": [
    "train_path = '/workspace/FP/4_summarization_model/20231028_merge_replaced_human_updated_splitted_auto_labeled_summarization_training.json'\n",
    "train = read_glm_json(train_path)\n",
    "summary = train[1]\n",
    "print(\"Text length>250:\", over_length(250, summary))\n",
    "print(\"Text length>500:\", over_length(500, summary))\n",
    "print(\"Text length>750:\", over_length(750, summary))\n",
    "print(\"Text length>1000:\", over_length(1000, summary))\n",
    "print(\"Text length>1500:\", over_length(1500, summary))\n",
    "print(\"Text length>2000:\", over_length(2000, summary))\n",
    "the_longest = max((len(text), index) for index, text in enumerate(summary))[1]\n",
    "print(the_longest)\n",
    "draw_datasets_bar(summary, \"train_summarization\")"
   ]
  },
  {
   "cell_type": "code",
   "execution_count": 8,
   "metadata": {},
   "outputs": [
    {
     "name": "stdout",
     "output_type": "stream",
     "text": [
      "Text length>250: 617\n",
      "Text length>500: 85\n",
      "Text length>750: 8\n",
      "Text length>1000: 2\n",
      "347\n",
      "train_content\n",
      "average: 114.95953382971835\n",
      "max: 1296\n",
      "min: 1\n"
     ]
    },
    {
     "data": {
      "image/png": "[encoded data removed]",
      "text/plain": [
       "<Figure size 640x480 with 1 Axes>"
      ]
     },
     "metadata": {},
     "output_type": "display_data"
    }
   ],
   "source": [
    "train_path = '/workspace/FP/3_classification_model/20230419_merge_replaced_human_updated_splitted_auto_labeled_classfication_dataset_training.json'\n",
    "train = read_glm_json(train_path)\n",
    "content = train[0]\n",
    "print(\"Text length>250:\", over_length(250, content))\n",
    "print(\"Text length>500:\", over_length(500, content))\n",
    "print(\"Text length>750:\", over_length(750, content))\n",
    "print(\"Text length>1000:\", over_length(1000, content))\n",
    "the_longest = max((len(text), index) for index, text in enumerate(content))[1]\n",
    "print(the_longest)\n",
    "draw_datasets_bar(content, \"train_content\")"
   ]
  },
  {
   "cell_type": "markdown",
   "metadata": {},
   "source": [
    "## glm json儲存成csv檔"
   ]
  },
  {
   "cell_type": "code",
   "execution_count": 1,
   "metadata": {},
   "outputs": [
    {
     "name": "stdout",
     "output_type": "stream",
     "text": [
      "6178\n"
     ]
    }
   ],
   "source": [
    "import json\n",
    "import pandas as pd\n",
    "\n",
    "def read_glm_json(file_path):\n",
    "    with open(file_path, \"r\", encoding=\"utf-8\") as json_file:\n",
    "        data, labels = zip(*[[json.loads(line)['content'], json.loads(line)['summary']] for line in json_file])\n",
    "    return [data, labels]\n",
    "def output_list_to_csv(des_csv_path, input_list):\n",
    "    df = pd.DataFrame({'content': input_list[0], 'summary': input_list[1]})\n",
    "    df.to_csv(des_csv_path, index=False, encoding='utf-8-sig')\n",
    "    return df\n",
    "\n",
    "\n",
    "\n",
    "file_path = '/workspace/FP/1_program_annotated/20230419_merge_replaced.json'\n",
    "csv_path = '/workspace/FP/20230419_merge_replaced.csv'\n",
    "\n",
    "# glm_list = read_glm_json(file_path)\n",
    "# print(len(glm_list))\n",
    "# # glm_df = output_list_to_csv(csv_path, glm_list)\n",
    "# print(glm_list[1][70])\n",
    "train_path = '/workspace/FP/3_classification_model/20230419_merge_replaced_human_updated_splitted_auto_labeled_classfication_dataset_training.json'\n",
    "train = read_glm_json(train_path)\n",
    "print(len(train[0]))"
   ]
  },
  {
   "cell_type": "markdown",
   "metadata": {},
   "source": [
    "## 將content拆解成句，存成csv或excel"
   ]
  },
  {
   "cell_type": "code",
   "execution_count": 128,
   "metadata": {},
   "outputs": [
    {
     "name": "stderr",
     "output_type": "stream",
     "text": [
      "100%|██████████| 269/269 [00:10<00:00, 26.67it/s]\n"
     ]
    }
   ],
   "source": [
    "import re\n",
    "from tqdm import tqdm\n",
    "csv_path = '/workspace/PF/20230419_merge_replaced_human_updated_splitted.csv'\n",
    "xlsx_path = '/workspace/PF/20230419_merge_replaced_human_updated_splitted.xlsx'\n",
    "contents = pd.read_csv('/workspace/FP/human_annotated/20230419_merge_replaced_human_updated.csv', encoding='utf-8-sig')['content'].to_list()\n",
    "\n",
    "df = pd.DataFrame(columns=['jud_index', 'sentence', 'label', 'summary'])\n",
    "for index, data in enumerate(tqdm(contents)):\n",
    "    sentences = re.findall(r'.*?。', data)\n",
    "    for sentence in sentences:\n",
    "        df.loc[len(df)] = {'jud_index': index, 'sentence': sentence}\n",
    "df.index.name = 'csv_index'        \n",
    "df.to_csv(csv_path, encoding='utf-8-sig')\n",
    "# df.to_excel(xlsx_path, index=False)"
   ]
  },
  {
   "cell_type": "code",
   "execution_count": null,
   "metadata": {},
   "outputs": [],
   "source": [
    "# import json\n",
    "# dataset_name = \"20230419_merge_replaced.json\"\n",
    "# def print_jud(input_text, char_num=60):\n",
    "#   num = 0\n",
    "#   text = \"\"\n",
    "#   for c in input_text:\n",
    "#     text+=c\n",
    "#     num+=1\n",
    "#     if num==char_num:\n",
    "#       text+=\"\\n\"\n",
    "#       # print(text)\n",
    "#       # text=\"\"\n",
    "#       num=0\n",
    "#   # text += \"\\n-----------\\n\"\n",
    "#   return text\n",
    "#   # print(text)\n",
    "# def read_glm_dataset(file_name):\n",
    "#     with open(file_name, \"r\", encoding=\"utf-8\") as json_file:\n",
    "#         glm_dataset = [json.loads(line) for line in json_file]\n",
    "#     return glm_dataset\n",
    "    \n",
    "# def output_glm_datast(file_name, dataset):\n",
    "#     with open(file_name, \"w\", encoding=\"utf-8\") as json_file:\n",
    "#         for line in dataset:\n",
    "#             json_file.write(json.dumps(line,ensure_ascii=False))\n",
    "#             json_file.write(\"\\n\")"
   ]
  },
  {
   "cell_type": "markdown",
   "metadata": {},
   "source": [
    "## rouge-l > 0.85 自動標註"
   ]
  },
  {
   "cell_type": "code",
   "execution_count": 37,
   "metadata": {},
   "outputs": [],
   "source": [
    "# !pip install rouge-chinese jieba\n",
    "from rouge_chinese import Rouge\n",
    "import jieba # you can use any other word cutting library\n",
    "import re\n",
    "from tqdm import tqdm\n",
    "def get_segmentation(input_text):\n",
    "    return ' '.join(jieba.cut(input_text)) "
   ]
  },
  {
   "cell_type": "code",
   "execution_count": 49,
   "metadata": {},
   "outputs": [
    {
     "name": "stdout",
     "output_type": "stream",
     "text": [
      "The nearest unlabeled index:  0\n"
     ]
    },
    {
     "name": "stderr",
     "output_type": "stream",
     "text": [
      "100%|██████████| 269/269 [01:25<00:00,  3.16it/s]\n"
     ]
    }
   ],
   "source": [
    "labeled_df = pd.read_csv('/workspace/FP/20230419_merge_replaced_human_updated_splitted.csv', encoding='utf-8-sig')\n",
    "# labels = read_glm_json(file_path)[1]\n",
    "labels = pd.read_csv('/workspace/FP/human_annotated/20230419_merge_replaced_human_updated.csv', encoding='utf-8-sig')['summary'].to_list()\n",
    "\n",
    "output_path = '/workspace/FP/20230419_merge_replaced_human_updated_splitted_auto_labeled.csv'\n",
    "record_path = '/workspace/FP/20230419_merge_replaced_human_updated_splitted_auto_labeled_record.csv'\n",
    "record_df = pd.DataFrame(columns=['jud_index', 'remaining_sentences_nums', 'sentences'])\n",
    "record_df.index.name = 'no'\n",
    "jud_end = 268\n",
    "unlabeled_start_index = labeled_df[labeled_df['summary'].isna()==True].iloc[0]['jud_index']\n",
    "print('The nearest unlabeled index: ', unlabeled_start_index)\n",
    "rouge = Rouge()\n",
    "\n",
    "for jud_index in tqdm(range(unlabeled_start_index, jud_end+1)):\n",
    "    jud_df = labeled_df[labeled_df['jud_index']==jud_index]\n",
    "    label = labels[jud_index].strip('摘要如下：')\n",
    "    # label_splitted = re.findall(r'.*?。', label)\n",
    "    label_splitted = label.split('。')\n",
    "    label_splitted = [label+'。' for label in label_splitted if label]\n",
    "    # print(label_splitted)\n",
    "    # print(len(label_splitted))\n",
    "    for index, row in jud_df.iterrows():\n",
    "        scores = []\n",
    "        if label_splitted==[]:\n",
    "            labeled_df.at[index, 'summary'] = '-1'\n",
    "            continue\n",
    "        for sentence in label_splitted:\n",
    "            rouge_score_l = rouge.get_scores(get_segmentation(row['sentence']), get_segmentation(sentence))[0]['rouge-l']['r']\n",
    "            scores.append(rouge_score_l)\n",
    "        if max(scores) > 0.85:\n",
    "            max_score_index = scores.index(max(scores))\n",
    "            labeled_df.at[index, 'summary'] = label_splitted[max_score_index]\n",
    "            del label_splitted[max_score_index]\n",
    "        else:\n",
    "            labeled_df.at[index, 'summary'] = '-1'\n",
    "    record_df.loc[len(record_df)] = {'jud_index': jud_index, 'remaining_sentences_nums': len(label_splitted), 'sentences': label_splitted}\n",
    "    labeled_df.to_csv(output_path, encoding='utf-8-sig', index=False)\n",
    "    record_df.to_csv(record_path, encoding='utf-8-sig')\n",
    "\n"
   ]
  },
  {
   "cell_type": "markdown",
   "metadata": {},
   "source": [
    "# Draw judgement length"
   ]
  },
  {
   "cell_type": "markdown",
   "metadata": {},
   "source": [
    "# 檢查不受理判決"
   ]
  },
  {
   "cell_type": "code",
   "execution_count": 35,
   "metadata": {},
   "outputs": [
    {
     "name": "stderr",
     "output_type": "stream",
     "text": [
      "100%|██████████| 269/269 [00:00<00:00, 22869.06it/s]"
     ]
    },
    {
     "name": "stdout",
     "output_type": "stream",
     "text": [
      "[30, 33, 64, 65, 66, 103, 111, 142, 211, 213, 218, 238, 240, 241, 242, 267, 268]\n",
      "17\n"
     ]
    },
    {
     "name": "stderr",
     "output_type": "stream",
     "text": [
      "\n"
     ]
    }
   ],
   "source": [
    "from tqdm import tqdm\n",
    "import re\n",
    "juds = pd.read_excel('/workspace/FP/2_human_annotated/20230419_merge_replaced_human_updated.xlsx')\n",
    "two = []\n",
    "for index in tqdm(range(len(juds))):\n",
    "    content = juds.iloc[index]['content']\n",
    "    founded = re.findall('不\\d*?受\\d*?理\\d*?之\\d*?判\\d*?決', content)\n",
    "    if len(founded)>0 and index != 70:\n",
    "        two.append(index)\n",
    "print(two)\n",
    "print(len(two))"
   ]
  },
  {
   "cell_type": "markdown",
   "metadata": {},
   "source": [
    "# 將欄位summary中文文字標籤(-1、1、2、x)轉成1"
   ]
  },
  {
   "cell_type": "code",
   "execution_count": 38,
   "metadata": {},
   "outputs": [
    {
     "name": "stderr",
     "output_type": "stream",
     "text": [
      "100%|██████████| 6800/6800 [00:01<00:00, 3586.56it/s]\n"
     ]
    }
   ],
   "source": [
    "input_df = pd.read_excel('/workspace/FP/2_human_annotated/20230419_merge_replaced_human_updated_splitted_auto_labeled - classfication.xlsx')\n",
    "output_path = '/workspace/FP/2_human_annotated/20230419_merge_replaced_human_updated_splitted_auto_labeled - classfication - training.csv'\n",
    "for index in tqdm(range(len(input_df))):\n",
    "    if input_df.iloc[index]['summary']==-1:\n",
    "        input_df.loc[index, 'summary'] = '無關'\n",
    "    elif input_df.iloc[index]['summary']==1:\n",
    "        input_df.loc[index, 'summary'] = '摘要'\n",
    "    elif input_df.iloc[index]['summary']==2:\n",
    "        input_df.loc[index, 'summary'] = '訴訟要件不足'\n",
    "    elif input_df.iloc[index]['summary']=='x':\n",
    "        input_df.loc[index, 'summary'] = '排除'\n",
    "    else:\n",
    "        input_df.loc[index, 'summary'] = '摘要'\n",
    "input_df.to_csv(output_path, encoding='utf-8-sig', index=False)\n"
   ]
  },
  {
   "cell_type": "markdown",
   "metadata": {},
   "source": [
    "# 製作glm dataset"
   ]
  },
  {
   "cell_type": "code",
   "execution_count": 51,
   "metadata": {},
   "outputs": [
    {
     "name": "stdout",
     "output_type": "stream",
     "text": [
      "269\n",
      "[242, 30, 211, 64, 268, 240]\n",
      "[158, 60, 206, 180, 120, 48, 78, 207, 254, 214, 37, 157, 17, 21, 190, 43, 205, 101, 222, 59]\n"
     ]
    }
   ],
   "source": [
    "import random\n",
    "summaries = []\n",
    "input_df = pd.read_csv('/workspace/FP/2_human_annotated/20230419_merge_replaced_human_updated_splitted_auto_labeled - classfication - training.csv', encoding='utf-8-sig')\n",
    "\n",
    "summaries = list(set(input_df[input_df['summary']=='摘要']['jud_index'].to_list()))\n",
    "excludes = list(set(input_df[input_df['summary']=='排除']['jud_index'].to_list()))\n",
    "unsufficient = list(set(input_df[input_df['summary']=='訴訟要件不足']['jud_index'].to_list()))\n",
    "print(len(summaries)+len(excludes)+len(unsufficient))\n",
    "\n",
    "random.shuffle(unsufficient)\n",
    "random.shuffle(summaries)\n",
    "test_unsufficient = unsufficient[:6]\n",
    "test_summaries = summaries[:20]\n",
    "print(test_unsufficient)\n",
    "print(test_summaries)\n"
   ]
  },
  {
   "cell_type": "code",
   "execution_count": 52,
   "metadata": {},
   "outputs": [
    {
     "name": "stdout",
     "output_type": "stream",
     "text": [
      "249\n",
      "17\n"
     ]
    }
   ],
   "source": [
    "test_unsufficient = [242, 30, 211, 64, 268, 240]\n",
    "test_summaries = [158, 60, 206, 180, 120, 48, 78, 207, 254, 214, 37, 157, 17, 21, 190, 43, 205, 101, 222, 59]\n",
    "train_summaries = [index for index in summaries if index not in test_summaries]\n",
    "train_unsufficient = [index for index in unsufficient if index not in test_unsufficient]\n",
    "print(len(test_summaries)+len(train_summaries))\n",
    "print(len(test_unsufficient)+len(train_unsufficient))"
   ]
  },
  {
   "cell_type": "code",
   "execution_count": 65,
   "metadata": {},
   "outputs": [],
   "source": [
    "import json\n",
    "input_df = pd.read_csv('/workspace/FP/2_human_annotated/20230419_merge_replaced_human_updated_splitted_auto_labeled - classfication - training.csv', encoding='utf-8-sig')\n",
    "training_dataset = train_summaries+train_unsufficient\n",
    "random.shuffle(training_dataset)\n",
    "training_dataset = [36, 217, 53, 122, 142, 249, 19, 96, 130, 241, 6, 100, 252, 20, 257, 185, 258, 250, 22, 72, 41, 147, 172, 121, 76, 42, 174, 167, 186, 3, 110, 243, 8, 175, 138, 266, 177, 46, 67, 61, 91, 28, 104, 169, 165, 221, 140, 166, 79, 25, 33, 162, 82, 204, 264, 149, 150, 35, 238, 1, 4, 13, 137, 58, 239, 179, 163, 248, 154, 5, 191, 144, 181, 246, 232, 31, 55, 261, 228, 26, 233, 220, 97, 134, 124, 133, 237, 152, 125, 151, 99, 218, 231, 189, 2, 195, 132, 188, 10, 88, 160, 127, 176, 223, 11, 18, 105, 251, 126, 156, 141, 235, 203, 210, 170, 70, 9, 52, 12, 86, 168, 244, 187, 98, 81, 111, 92, 107, 62, 236, 184, 260, 129, 90, 77, 153, 27, 83, 50, 84, 215, 23, 161, 7, 171, 113, 65, 148, 87, 194, 224, 192, 108, 14, 208, 123, 47, 155, 265, 143, 45, 38, 24, 263, 66, 117, 135, 103, 159, 259, 193, 85, 116, 139, 119, 57, 164, 0, 197, 209, 74, 94, 267, 225, 118, 32, 229, 256, 145, 93, 39, 106, 182, 16, 73, 114, 146, 199, 230, 136, 253, 131, 247, 63, 128, 234, 255, 95, 51, 54, 198, 202, 226, 44, 262, 102, 71, 227, 69, 178, 201, 56, 40, 75, 109, 49, 183, 216, 115, 219, 200, 80, 173, 196, 34, 213, 89, 29, 212, 112]\n",
    "with open('20230419_merge_replaced_human_updated_splitted_auto_labeled - classfication_dataset_training.json', 'w') as jfile:\n",
    "    for index in training_dataset:\n",
    "        sub_df = input_df[input_df['jud_index']==index]\n",
    "        for sub_index, row in sub_df.iterrows():\n",
    "            output_data = {'content': input_df.iloc[sub_index]['sentence'], 'summary': input_df.iloc[sub_index]['summary']}\n",
    "            jfile.write(json.dumps(output_data, ensure_ascii=False)+'\\n')\n",
    "\n"
   ]
  },
  {
   "cell_type": "code",
   "execution_count": 110,
   "metadata": {},
   "outputs": [],
   "source": [
    "testing_dataset = test_summaries+test_unsufficient\n",
    "random.shuffle(testing_dataset)\n",
    "testing_dataset = [180, 43, 64, 190, 206, 30, 17, 211, 157, 37, 214, 59, 205, 222, 268, 240, 60, 21, 207, 242, 101, 254, 48, 120, 78, 158]\n",
    "\n",
    "with open('20230419_merge_replaced_human_updated_splitted_auto_labeled - classfication_dataset_testing.json', 'w') as jfile:\n",
    "    for index in testing_dataset:\n",
    "        sub_df = input_df[input_df['jud_index']==index]\n",
    "        for sub_index, row in sub_df.iterrows():\n",
    "            output_data = {'content': input_df.iloc[sub_index]['sentence'], 'summary': input_df.iloc[sub_index]['summary']}\n",
    "            jfile.write(json.dumps(output_data, ensure_ascii=False)+'\\n')\n"
   ]
  },
  {
   "cell_type": "markdown",
   "metadata": {},
   "source": [
    "# Summarization Model Dataset"
   ]
  },
  {
   "cell_type": "code",
   "execution_count": 11,
   "metadata": {},
   "outputs": [
    {
     "name": "stdout",
     "output_type": "stream",
     "text": [
      "240\n"
     ]
    }
   ],
   "source": [
    "import json\n",
    "import pandas as pd\n",
    "input_df = pd.read_csv('/workspace/FP/2_human_annotated/20230419_merge_replaced_human_updated_splitted_auto_labeled - classfication - training.csv', encoding='utf-8-sig')\n",
    "# training_dataset = train_summaries+train_unsufficient\n",
    "# random.shuffle(training_dataset)\n",
    "training_dataset = [36, 217, 53, 122, 142, 249, 19, 96, 130, 241, 6, 100, 252, 20, 257, 185, 258, 250, 22, 72, 41, 147, 172, 121, 76, 42, 174, 167, 186, 3, 110, 243, 8, 175, 138, 266, 177, 46, 67, 61, 91, 28, 104, 169, 165, 221, 140, 166, 79, 25, 33, 162, 82, 204, 264, 149, 150, 35, 238, 1, 4, 13, 137, 58, 239, 179, 163, 248, 154, 5, 191, 144, 181, 246, 232, 31, 55, 261, 228, 26, 233, 220, 97, 134, 124, 133, 237, 152, 125, 151, 99, 218, 231, 189, 2, 195, 132, 188, 10, 88, 160, 127, 176, 223, 11, 18, 105, 251, 126, 156, 141, 235, 203, 210, 170, 70, 9, 52, 12, 86, 168, 244, 187, 98, 81, 111, 92, 107, 62, 236, 184, 260, 129, 90, 77, 153, 27, 83, 50, 84, 215, 23, 161, 7, 171, 113, 65, 148, 87, 194, 224, 192, 108, 14, 208, 123, 47, 155, 265, 143, 45, 38, 24, 263, 66, 117, 135, 103, 159, 259, 193, 85, 116, 139, 119, 57, 164, 0, 197, 209, 74, 94, 267, 225, 118, 32, 229, 256, 145, 93, 39, 106, 182, 16, 73, 114, 146, 199, 230, 136, 253, 131, 247, 63, 128, 234, 255, 95, 51, 54, 198, 202, 226, 44, 262, 102, 71, 227, 69, 178, 201, 56, 40, 75, 109, 49, 183, 216, 115, 219, 200, 80, 173, 196, 34, 213, 89, 29, 212, 112]\n",
    "summaries = pd.read_excel('/workspace/FP/3_classification_model/20230419_merge_replaced.xlsx')['summary'].to_list()\n",
    "with open('/workspace/FP/4_summarization_model/20230419_merge_replaced_human_updated_splitted_auto_labeled_summarization_training.json', 'w') as jfile:\n",
    "    for index in training_dataset:\n",
    "        sub_df = input_df[input_df['jud_index']==index]\n",
    "        sub_df = sub_df[sub_df['summary'].isin(['摘要', '訴訟要件不足'])]\n",
    "        content = ''.join(sub_df['sentence'].to_list())\n",
    "        summary = summaries[index].strip('摘要如下：')\n",
    "        output_data = {'content': content, 'summary': summary}\n",
    "        jfile.write(json.dumps(output_data, ensure_ascii=False)+'\\n')\n",
    "print(len(training_dataset))"
   ]
  },
  {
   "cell_type": "code",
   "execution_count": 21,
   "metadata": {},
   "outputs": [
    {
     "name": "stdout",
     "output_type": "stream",
     "text": [
      "26\n"
     ]
    }
   ],
   "source": [
    "testing_dataset = [180, 43, 64, 190, 206, 30, 17, 211, 157, 37, 214, 59, 205, 222, 268, 240, 60, 21, 207, 242, 101, 254, 48, 120, 78, 158]\n",
    "\n",
    "with open('/workspace/FP/4_summarization_model/20230419_merge_replaced_human_updated_splitted_auto_labeled_summarization_testing.json', 'w') as jfile:\n",
    "    for index in testing_dataset:\n",
    "        sub_df = input_df[input_df['jud_index']==index]\n",
    "        sub_df = sub_df[sub_df['summary'].isin(['摘要', '訴訟要件不足'])]\n",
    "        content = ''.join(sub_df['sentence'].to_list())\n",
    "        summary = summaries[index].strip('摘要如下：')\n",
    "        output_data = {'content': content, 'summary': summary}\n",
    "        jfile.write(json.dumps(output_data, ensure_ascii=False)+'\\n')\n",
    "print(len(testing_dataset))\n"
   ]
  },
  {
   "cell_type": "code",
   "execution_count": 24,
   "metadata": {},
   "outputs": [
    {
     "name": "stdout",
     "output_type": "stream",
     "text": [
      "26\n",
      "['12事實及理由13一、犯罪事實：莊璧華於民國一一０年二月七日十二時二十七分14許，駕駛車牌號碼000-○○○○號自用小客車，沿臺南市安15南區安和路二段由北往南方向行駛，行經臺南市安南區安和16路二段與安和路二段一七四巷路口，本應注意車前狀況，且17後車與前車之間應保持隨時可以煞停之安全距離，而依當時18天候晴、日間自然光線、柏油路面乾燥、無缺陷等情形，並19無不能注意之情事，竟疏未注意車前狀況，亦未保持安全距20離，適有蘇世銘駕駛車牌號碼○○○○-0○號自用小客車搭21載黃惠娟，在上開路口停等紅燈，遭同向後方駛至之莊璧華22駕駛該自用小客車碰撞，蘇世銘之上開自用小客車復往前碰23撞同向前方在該路口停等紅燈之孫小明駕駛車牌號碼000-○24○○○號自用小客車，致黃惠娟受有頭部鈍傷、頸部挫傷及25下背挫傷之傷害', '爰審酌被告17駕駛自小客車未隨時注意車前狀況及未保持與前車安全車18距、致告訴人受有如犯罪事實欄所載之傷害、尚未與告訴人19達成民事和解賠償損害，惟告訴人已提起附帶民事訴訟、無20前科素行良好及其犯後態度等一切情狀，量處如主文所示之21刑，併諭知易科罰金之折算標準', '']\n",
      "['莊璧華駕駛車牌號碼沿臺南市安南區安和路二段由北往南方向行駛，行經臺南市安南區安和16路二段與安和路二段一七四巷路口，本應注意車前狀況，然竟疏未注意車前狀況，亦未保持安全距離，適有蘇世銘駕駛車牌號碼○○○○-0○號自用小客車搭載黃惠娟，在上開路口停等紅燈，遭同向後方駛至之莊璧華駕駛該自用小客車碰撞，蘇世銘之上開自用小客車復往前碰撞同向前方在該路口停等紅燈之孫小明駕駛之自用小客車，致黃惠娟受有頭部鈍傷、頸部挫傷及下背挫傷之傷害', '本院爰審酌被告駕駛自小客車未隨時注意車前狀況及未保持與前車安全車距、致告訴人受有如犯罪事實欄所載之傷害、尚未與告訴人達成民事和解賠償損害，量處如主文所示之刑，併諭知易科罰金之折算標準', '']\n"
     ]
    }
   ],
   "source": [
    "json_path ='/workspace/FP/4_summarization_model/20230419_merge_replaced_human_updated_splitted_auto_labeled_summarization_training.json'\n",
    "json_path ='/workspace/FP/4_summarization_model/20230419_merge_replaced_human_updated_splitted_auto_labeled_summarization_testing.json'\n",
    "jlist = read_glm_json(json_path)\n",
    "print(len(jlist[0]))\n",
    "print(jlist[0][1].split('。'))\n",
    "print(jlist[1][1].split('。'))"
   ]
  },
  {
   "cell_type": "markdown",
   "metadata": {},
   "source": [
    "# 製作classification dataset (只有摘要、訴訟要件不足) 效果不好"
   ]
  },
  {
   "cell_type": "code",
   "execution_count": 69,
   "metadata": {},
   "outputs": [],
   "source": [
    "import pandas as pd\n",
    "import json\n",
    "train_json_path = '/workspace/FP/3_classification_model/20230419_merge_replaced_human_updated_splitted_auto_labeled_classfication_dataset_training.json'\n",
    "total_df_path = '/workspace/FP/2_human_annotated/20230419_merge_replaced_human_updated_splitted_auto_labeled - classfication - training.csv'\n",
    "training_dataset = [36, 217, 53, 122, 142, 249, 19, 96, 130, 241, 6, 100, 252, 20, 257, 185, 258, 250, 22, 72, 41, 147, 172, 121, 76, 42, 174, 167, 186, 3, 110, 243, 8, 175, 138, 266, 177, 46, 67, 61, 91, 28, 104, 169, 165, 221, 140, 166, 79, 25, 33, 162, 82, 204, 264, 149, 150, 35, 238, 1, 4, 13, 137, 58, 239, 179, 163, 248, 154, 5, 191, 144, 181, 246, 232, 31, 55, 261, 228, 26, 233, 220, 97, 134, 124, 133, 237, 152, 125, 151, 99, 218, 231, 189, 2, 195, 132, 188, 10, 88, 160, 127, 176, 223, 11, 18, 105, 251, 126, 156, 141, 235, 203, 210, 170, 70, 9, 52, 12, 86, 168, 244, 187, 98, 81, 111, 92, 107, 62, 236, 184, 260, 129, 90, 77, 153, 27, 83, 50, 84, 215, 23, 161, 7, 171, 113, 65, 148, 87, 194, 224, 192, 108, 14, 208, 123, 47, 155, 265, 143, 45, 38, 24, 263, 66, 117, 135, 103, 159, 259, 193, 85, 116, 139, 119, 57, 164, 0, 197, 209, 74, 94, 267, 225, 118, 32, 229, 256, 145, 93, 39, 106, 182, 16, 73, 114, 146, 199, 230, 136, 253, 131, 247, 63, 128, 234, 255, 95, 51, 54, 198, 202, 226, 44, 262, 102, 71, 227, 69, 178, 201, 56, 40, 75, 109, 49, 183, 216, 115, 219, 200, 80, 173, 196, 34, 213, 89, 29, 212, 112]\n",
    "total_df = pd.read_csv(total_df_path, encoding='utf-8-sig')\n",
    "\n",
    "sub_df = total_df[total_df['jud_index'].isin(training_dataset)]\n",
    "sub_df = sub_df[sub_df['summary'].isin(['摘要', '訴訟要件不足'])]\n",
    "\n",
    "# with open('/workspace/FP/3_classification_model/20230419_merge_replaced_human_updated_splitted_auto_labeled_classfication_dataset_training_positives.json', 'w') as json_file:\n",
    "#     for index, row in sub_df.iterrows():\n",
    "#         json_file.write(json.dumps({'content': row['sentence'], 'summary': row['summary']}, ensure_ascii=False)+'\\n')\n",
    "\n",
    "\n",
    "\n"
   ]
  },
  {
   "cell_type": "markdown",
   "metadata": {},
   "source": [
    "# 製作classification dataset (無關4，摘要、訴訟要件不足1)"
   ]
  },
  {
   "cell_type": "code",
   "execution_count": null,
   "metadata": {},
   "outputs": [
    {
     "name": "stdout",
     "output_type": "stream",
     "text": [
      "1667\n"
     ]
    }
   ],
   "source": [
    "import pandas as pd\n",
    "import json\n",
    "import random\n",
    "# train_json_path = '/workspace/FP/3_classification_model/20230419_merge_replaced_human_updated_splitted_auto_labeled_classfication_dataset_training.json'\n",
    "total_df_path = '/workspace/FP/2_human_annotated/20230419_merge_replaced_human_updated_splitted_auto_labeled - classfication - training.csv'\n",
    "output_path = '/workspace/FP/3_classification_model/20231030_merge_replaced_human_updated_splitted_auto_labeled_classfication_dataset_training_pos1neg4.json'\n",
    "training_dataset = [36, 217, 53, 122, 142, 249, 19, 96, 130, 241, 6, 100, 252, 20, 257, 185, 258, 250, 22, 72, 41, 147, 172, 121, 76, 42, 174, 167, 186, 3, 110, 243, 8, 175, 138, 266, 177, 46, 67, 61, 91, 28, 104, 169, 165, 221, 140, 166, 79, 25, 33, 162, 82, 204, 264, 149, 150, 35, 238, 1, 4, 13, 137, 58, 239, 179, 163, 248, 154, 5, 191, 144, 181, 246, 232, 31, 55, 261, 228, 26, 233, 220, 97, 134, 124, 133, 237, 152, 125, 151, 99, 218, 231, 189, 2, 195, 132, 188, 10, 88, 160, 127, 176, 223, 11, 18, 105, 251, 126, 156, 141, 235, 203, 210, 170, 70, 9, 52, 12, 86, 168, 244, 187, 98, 81, 111, 92, 107, 62, 236, 184, 260, 129, 90, 77, 153, 27, 83, 50, 84, 215, 23, 161, 7, 171, 113, 65, 148, 87, 194, 224, 192, 108, 14, 208, 123, 47, 155, 265, 143, 45, 38, 24, 263, 66, 117, 135, 103, 159, 259, 193, 85, 116, 139, 119, 57, 164, 0, 197, 209, 74, 94, 267, 225, 118, 32, 229, 256, 145, 93, 39, 106, 182, 16, 73, 114, 146, 199, 230, 136, 253, 131, 247, 63, 128, 234, 255, 95, 51, 54, 198, 202, 226, 44, 262, 102, 71, 227, 69, 178, 201, 56, 40, 75, 109, 49, 183, 216, 115, 219, 200, 80, 173, 196, 34, 213, 89, 29, 212, 112]\n",
    "total_df = pd.read_csv(total_df_path, encoding='utf-8-sig')\n",
    "\n",
    "result = []\n",
    "for jud_index in training_dataset:\n",
    "    sub_df = total_df[total_df['jud_index']==jud_index]\n",
    "    negs = [[jud_index, row['sentence'], row['summary']] for index, row in sub_df[sub_df['summary']=='無關'].iterrows()]\n",
    "    pos = [[jud_index, row['sentence'], row['summary']] for index, row in sub_df[sub_df['summary'].isin(['摘要', '訴訟要件不足'])].iterrows()]\n",
    "    random.shuffle(negs)\n",
    "    result+=negs[:4]\n",
    "    result+=pos\n",
    "    \n",
    "print(len(result))\n",
    "df = pd.DataFrame(columns=['jud_index', 'content', 'summary'])\n",
    "\n",
    "# with open(output_path, 'w') as json_file:\n",
    "#     for jud_index, sentence, label in result:\n",
    "#         json_file.write(json.dumps({'content': sentence, 'summary': label}, ensure_ascii=False)+'\\n')\n",
    "#         df.loc[len(df)] = {'jud_index':jud_index, 'content': sentence, 'summary': label}\n",
    "# df.to_csv('/workspace/FP/3_classification_model/20231030_merge_replaced_human_updated_splitted_auto_labeled_classfication_dataset_training_pos1neg4.csv', encoding='utf-8-sig', index=False)\n"
   ]
  },
  {
   "cell_type": "markdown",
   "metadata": {},
   "source": [
    "# Prediction"
   ]
  },
  {
   "cell_type": "code",
   "execution_count": null,
   "metadata": {},
   "outputs": [],
   "source": [
    "import os\n",
    "import re\n",
    "import torch\n",
    "from transformers import AutoConfig, AutoModel, AutoTokenizer\n",
    "import json\n",
    "import pandas as pd\n",
    "from tqdm import tqdm\n",
    "def load_glm_checkpoint(checkpoint_path):\n",
    "    llm_path = \"F:\\\\Lawrence\\\\ChatGLM-6B\\\\LLM\"\n",
    "    # Test local tokenizer 载入Tokenizer\n",
    "    # tokenizer = AutoTokenizer.from_pretrained(llm_path, trust_remote_code=True)\n",
    "    # config = AutoConfig.from_pretrained(llm_path, trust_remote_code=True, pre_seq_len=1024)\n",
    "    \n",
    "    config = AutoConfig.from_pretrained(\"THUDM/chatglm-6b\", trust_remote_code=True, pre_seq_len=1024)\n",
    "\n",
    "    model = AutoModel.from_pretrained(llm_path, config=config, trust_remote_code=True)\n",
    "    print(\"Parameter Merging!\")\n",
    "    prefix_state_dict = torch.load(os.path.join(checkpoint_path, \"pytorch_model.bin\"))\n",
    "\n",
    "    new_prefix_state_dict = {}\n",
    "    for k, v in prefix_state_dict.items():\n",
    "        if k.startswith(\"transformer.prefix_encoder.\"):\n",
    "            new_prefix_state_dict[k[len(\"transformer.prefix_encoder.\"):]] = v\n",
    "    model.transformer.prefix_encoder.load_state_dict(new_prefix_state_dict)\n",
    "    print(\"Model Quantizationing!\")\n",
    "    model = model.quantize(4)\n",
    "    model = model.half().cuda()\n",
    "    model.transformer.prefix_encoder.float()\n",
    "    model = model.eval()\n",
    "    print(\"Model Loaded!\")\n",
    "    return model\n",
    "\n",
    "# ---Segementatioin between 事實(含) and 綜上所述、據上論斷\n",
    "def segement_between_fact_above(jud):\n",
    "    jud = jud.replace(\"\\n\", \"\").replace(\"\\u3000\", \"\").replace(\" \",\"\")\n",
    "    # result = re.findall(\".+主 *文.+?(事 *實.+)(綜上所述|據上論斷)\", jud)\n",
    "    result = re.search(\".+主 *文.+?(事 *實.+)(綜上所述|據上論斷|爰.*?審酌)\", jud)\n",
    "    if result:\n",
    "        result = result.group(1)\n",
    "    # print(len(result.groups()))\n",
    "    return result\n",
    "def segement_exceptions(jud):\n",
    "    jud = jud.replace(\"\\n\", \"\").replace(\"\\u3000\", \"\").replace(\" \",\"\")\n",
    "    result = re.search(\"(事 *實.+如不服.+?。)|(公訴不受理.+如\\d*主\\d*文)\", jud)\n",
    "    if result:\n",
    "        result = result.group(result.lastindex)\n",
    "    return result\n",
    "# def read_json(json_path):\n",
    "#     with open(json_path, \"r\", encoding=\"utf-8-sig\") as json_file:\n",
    "#         # json_list = json_file.readlines()\n",
    "#         json_list = [json.loads(line) for line in json_file]\n",
    "#         keys = [key for key in json_list[0].keys()]\n",
    "#         print(f\"json length:{len(json_list)}\\njson keys:{keys}\")\n",
    "#     return json_list\n",
    "\n",
    "# json_source_path = r\"F:\\Lawrence\\ChatGLM-6B\\ptuning\\datasets\\20230618_dataset_glm_400_testing.json\"\n",
    "# checkpoint_path = r\"F:\\Lawrence\\ChatGLM-6B\\ptuning\\output\\20230618_hackson_3600-6b-pt-1024-2e-2\\checkpoint-{}\"\n",
    "# test_list = read_json(json_source_path)\n",
    "\n",
    "input_text_list = ['''\n",
    "裁判字號：臺灣新竹地方法院 111 年簡上字第 109 號民事判決\n",
    "臺灣新竹地方法院民事判決\n",
    "111年度簡上字第109號\n",
    "上  訴  人  陳麗華 \n",
    "訴訟代理人  蔡頤奕律師\n",
    "被上訴人    峰華國際不動產有限公司\n",
    "\n",
    "法定代理人  許清淵 \n",
    "上列當事人間請求損害賠償事件，上訴人對於中華民國111年7月14日本院新竹簡易庭111年度竹簡字第175號第一審判決提起上訴，本院合議庭於112年5月24日言詞辯論終結，判決如下：\n",
    "    主  文\n",
    "上訴駁回。\n",
    "第二審訴訟費用由上訴人負擔。\n",
    "    事實及理由\n",
    "壹、程序部分\n",
    "　　    按在第二審為訴之變更或追加，非經他造同意，不得為之，但請求之基礎事實同一、擴張或減縮應受判決事項之聲明者，不在此限，民事訴訟法第446條第1項、第255條第1項第2款、第3款定有明文。上訴人於原審原請求被上訴人給付仲介費用新台幣(下同)204,000元、代書費用22,500元，原審審理後，判決上訴人敗訴，上訴人提起上訴後，於本院縮減其請求，僅就上訴人未調查並告知房屋瑕疵致上訴人客浴（即上訴人書狀中主張之客臥衛浴、客廳廁所，下稱客浴）漏水維修費用之瑕疵，依不完全給付之法律關係，請求被上訴人給付125,000元（見本院卷第77至79頁）。被上訴人未表示不同意，且其聲明部分，僅係縮減應受判決事項之聲明，依前開規定，其所為之變更，應予准許，先此敘明。\n",
    "貳、實體部分：\n",
    "一、上訴人於原審及本院主張：上訴人經由被上訴人之居間仲介，於民國110年4月14日向訴外人謝佳曄（下稱謝佳曄）購買門牌號碼新竹市○○路000巷000號6樓房屋（下稱系爭房屋）及其坐落基地暨停車位3個（編號50、51、32），並包含屋內之一切設備，總價為新臺幣（下同）1,020萬元，上訴人與謝佳曄於同日簽訂不動產買賣契約書（下稱系爭買賣契約）。詎系爭房屋客浴採乾濕分離，「乾區」部分無防水設計，倘經正常如廁清潔使用，將導致上訴人用水滲漏至5樓住戶，進而引發鄰損事件，致上訴人需另行雇工完成防水工程。謝佳曄竟於出售時惡意未告知上情，於系爭房屋標的物現況說明書15「現況是否有滲漏水情形」、16「是否曾在最近一年內修復甚漏水」勾選「否」，表示謝佳曄擔保系爭建物絕無滲漏水現象，且為被上訴人居間前進行屋況調查時所肯認，顯見被上訴人於居間出售系爭房屋時並未善盡調查義務，上訴人自得依民法第227條第1項不完全給付之法律關係，就上開防免漏水所施作之工程費用125,000元請求被上訴人為損害賠償。\n",
    "二、被上訴人於原審及本院之答辯：被上訴人已盡善良管理之注意義務檢查買賣標的物，實無欺罔之情。蓋被上訴人於委售階段即已派員就出賣人所載之標的物現況說明書等47項以通常方法、肉眼所視及身體感知所及之方式逐一查驗，並製作不動產說明書以備買賣雙方於簽立系爭買賣契約時確認，上訴人於帶看時亦未發現漏水之情；另於驗屋及交屋階段，上訴人在產權移轉登記後、交屋前，曾再次前往驗屋，即以通常方法檢查屋況確認無誤後，通知貸款銀行代清償出賣人首順位銀行抵押權，可證自簽約後至驗屋時，被上訴人就滲漏水調查義務並無過失。而於交屋後階段，依統計資料所示，110年度國人月平均每戶用水費為224元，系爭房屋自110年4月14日簽約時起至同年10月14日止，用水費分別為132元（110年4月14日至110年6月10日共58天）、621元（110年6月11日至110年8月13日共64天）、1,008元（110年8月14日至110年10月14日共62天），扣除銷售帶看期間，如被上訴人確有隱匿或未盡調查義務致有漏水之情，即在110年6月11日至110年8月13日用水期間即生上情。承上，系爭房屋自驗屋日至交屋後之110年10月7日並無漏水情事等語。\n",
    "三、原審經審理後，為上訴人敗訴之判決，上訴人不服提起上訴，上訴聲明：（一）原判決廢棄。（二）被上訴人應給付上訴人125,000元。被上訴人答辯聲明：上訴駁回。　　\n",
    "四、兩造不爭執事項\n",
    "（一）上訴人於110年4月12日簽訂「買方給付服務費承諾書」，委託被上訴人居間仲介購買系爭房屋，同意於契約成立時，給付買賣總價百分之二服務報酬予被上訴人。\n",
    "（二）上訴人經由被上訴人之居間仲介，於110年4月14日向謝佳曄購買系爭房屋及其坐落基地暨停車位3個（編號50、51、32），並包含屋內之一切設備，總價為1,020萬元。系爭房屋標的物現況說明書15「現況是否有滲漏水情形」、16「是否曾在最近一年內修復甚漏水」處勾選「否」。\n",
    "（三）上訴人曾於110年4月16日支付服務費204,000元予被上訴人。\n",
    "（四）買賣雙方於110年6月2日辦理交屋手續，於此之前，上訴人已交付買賣價金，謝佳曄已移轉系爭不動產所有權登記，上訴人於110年7月間曾委由證人徐英洲進行主浴部分裝修，並110年9月入住。\n",
    "（五）系爭房屋第一次登記日期為87年10月17日。　　\n",
    "（六）上訴人於110年8月10日就仲介費服務爭議，向新竹市政府提起申訴，請求退還仲介報酬，另對被上訴人負責人提起刑事詐欺罪告訴，經台灣新竹地方檢察署檢察官以111年度偵字第6045號不起訴處分書為不起訴處分確定。　　\n",
    "五、本院之判斷\n",
    "　　    本件上訴人所為前揭主張，經被上訴人否認，並以前詞置辯。是本件主要爭點為：上訴人主張謝佳曄明知系爭房屋客浴採乾濕分離，「乾區」部分無防水設計，經正常如廁清潔使用，將導致上訴人用水滲漏至5樓住戶，進而引發鄰損事件，竟於出售時惡意未告知上情，且被上訴人未盡調查義務，致上訴人需另行雇工完成防水工程，應負擔修繕費用，是否有理由？如被上訴人應負擔前開修繕費用，則上訴人請求被上訴人給付125,000元，是否有理由？\n",
    "（一）按當事人主張有利於己之事實者，就其事實有舉證之責任，民事訴訟法第277條前段定有明文。又民事訴訟如係由原告主張權利者，應先由原告負舉證之責，若原告先不能舉證，以證實自己主張之事實為真實，則被告就其抗辯事實即令不能舉證，或其所舉證據尚有疵累，亦應駁回原告之請求。經查，上訴人固主張：系爭房屋客浴乾區未為防水設計，造成系爭房屋樓下之5樓浴室漏水云云，並提出現場相片、報價單（見本院卷第55至58頁、第67頁、第83至84頁，原審卷第145頁）為佐。然查：系爭房屋自110年4月14日簽立買賣契約起，用水費分別為132元（110年4月14日至110年6月10日）、621元（110年6月11日至110年8月13日）、1,008元（110年8月14日至110年10月14日）、1156元（110年10月15日至12月13日）、968元（110年12月14日至111年2月10日），買賣雙方於110年6月2日交屋，上訴人於他案自承於9月間搬入系爭房屋（見本院111竹簡84號卷276頁），則系爭房屋水費於上訴人住居於系爭房屋後，始有明顯增加之情形，被上訴人所為前揭答辯，實屬有據。再查，本案起訴前，上訴人與他人間LINE通訊對話中，未曾提到「系爭房屋有滲漏水至5樓」等語（原審卷第121至134頁），而依上訴人於原審提出之施工費用請款收據（原審卷第45頁）、報價單（本院卷第67頁）細項中，均無修復5樓浴室之工項，證人徐英洲於原審中亦證稱：「主浴有做刨除、防水、貼地壁磚、浴缸。客浴部分只有換衛浴的零組配件，如把手、水龍頭。客浴部分有無漏水到樓下，我不清楚。」等語（原審卷第211至213頁），依證人徐英洲所言，亦無法證明系爭房屋客浴有滲漏水至5樓之情，上訴人前揭主張，難認與事實相符。再查，上訴人於民事補正起訴狀固稱：「5樓住戶於110年10月7日晚間反應系爭房屋浴室嚴重漏水到5樓，5樓住戶曾反應以前有漏水過，被上訴人在賣房子前有請抓漏師傅以灌膠方式處理漏水、、、」（原審卷第17頁）等語，然就此部分，上訴人未能提出任何積極證據佐證其說，依上訴人所提出之照片（本院卷第55至58頁、第83至84頁頁），亦無從認定系爭房屋客浴室有滲漏水至5樓之情形，而經本院詢問後，上訴人表示5樓住戶無意願出庭作證（本院卷第88頁），上訴人未能舉證證明系爭房屋客浴乾區未為防水設計，造成系爭房屋樓下之5樓浴室漏水等情，先予敘明。\n",
    "（二）按仲介業務，係指從事不動產買賣、互易、租賃之居間或代理業務。不動產經紀業管理條例第4 條第5 款定有明文。又稱居間者，謂當事人約定，一方為他方報告訂約之機會或為訂約之媒介，他方給付報酬之契約；居間人關於訂約事項，應就其所知，據實報告於各當事人；以居間為營業者，關於訂約事項，有調查之義務。民法第565 條、第567 條亦規定甚明。然查，本件上訴人未能證明系爭房屋客浴有其所主張之瑕疵，業如前述，本件既無法認定系爭房屋有瑕疵問題，遑論被上訴人預見此瑕疵危險，或未調查、據實報告此瑕疵，故上訴人主張被上訴人就系爭房屋客浴「乾區」部分無防水設計，未依民法第567條為據實報告及調查，應負損害賠償責任云云，為無理由。\n",
    "六、綜上所述，上訴人依民法第227條第1項規定，請求被上訴人負擔債務不履行之不完全給付責任，而請求被上訴人給付修繕客浴費用125,000元，為無理由，應予駁回。原審為上訴人敗訴之判決，並無不合，上訴意旨指摘原審判決不當，求予廢棄改判，為無理由，應駁回其上訴。\n",
    "七、本件事證已臻明確，兩造其餘攻擊防禦方法及證據，核與判決之結果不生影響，爰不一一論列，併此敘明。\n",
    "八、據上論結，本件上訴為無理由，依民事訴訟法第436條之1第3項、第449條第1項、第78條，判決如主文。　　　　　\n",
    "中　　華　　民　　國　　112 　年　　6 　　月　　27　　日\n",
    "                  民事第一庭  審判長  法　官  林南薰\n",
    "\n",
    "                                      法  官  林麗玉\n",
    "\n",
    "                                      法  官　張詠晶　　\n",
    "本件正本證明與原本無異。\n",
    "不得上訴。  　　　　　　　　　　　　　　　　　　　\n",
    "中　　華　　民　　國　　112 　年　　6 　　月　　27　　日\n",
    "                                      書記官  陳佩瑩\n",
    "''',\n",
    "'''\n",
    "裁判字號：臺灣高雄地方法院 111 年交易字第 8 號刑事判決\n",
    "臺灣高雄地方法院刑事判決\n",
    "111年度交易字第8號\n",
    "公  訴  人  臺灣高雄地方檢察署檢察官\n",
    "被      告  吳三明\n",
    "\n",
    "\n",
    "\n",
    "上列被告因過失傷害案件，經檢察官提起公訴（110年度偵字第13102號），本院判決如下：\n",
    "    主  文\n",
    "吳三明犯過失傷害罪，處拘役伍拾日，如易科罰金，以新臺幣壹仟元折算壹日。\n",
    "    事  實\n",
    "一、吳三明於民國110年1月27日上午11時54分許，騎乘電動自行車，自高雄市鳳山區龍成路123巷與保泰路之交叉路口（下稱前開路口）東南角、鄰近斑馬線交界處之路旁起駛，本應注意起駛前應注意左右有無車輛，並讓行進中之車輛優先通行，而依當時天候晴、日間自然光線、柏油路面乾燥無缺陷及障礙物、視距良好，客觀上並無不能注意之情事，竟疏未注意及此，貿然起駛而由西南往東北方向斜切駛入保泰路，欲沿保泰路由西往東方向行駛；適有余丞富騎乘車牌號碼000-0000號普通重型機車沿保泰路由西往東方向直行而來，見狀閃避不及，兩車遂發生碰撞，致余丞富人車倒地，受有左手腕扭拉傷、左肘擦傷4X2公分、左膝擦傷3X3公分、左小腿擦傷5X2公分、4X1.5公分、左足背擦傷2X2公分之傷害（下稱前開傷勢）。嗣吳三明肇事後，於有偵查犯罪權限之機關未發覺犯罪前，向前往醫院處理之員警坦承為肇事人，進而接受裁判。\n",
    "二、案經余丞富訴由高雄市政府警察局鳳山分局報告臺灣高雄地方檢察署檢察官偵查起訴。 \n",
    "    理  由\n",
    "一、證據能力：\n",
    "　㈠刑事訴訟法第159條之2規定，被告以外之人於檢察事務官、司法警察官或司法警察調查中所為之陳述，與審判中不符時，其先前之陳述具有較可信之特別情況，且為證明犯罪事實存否所必要者，得為證據。經查，證人即告訴人余丞富（下稱告訴人）於警詢、檢察事務官詢問中之證述，既經被告吳三明否認證據能力，又告訴人於警詢、檢察事務官詢問中證述內容，與其審判中所述大致相符，依照前揭規定，本院認其於警詢、檢察事務官詢問中之證詞應無證據能力。\n",
    "　㈡除前開告訴人於警詢、檢察事務官詢問中之陳述外，檢察官、被告對於本判決後引各項屬於審判外陳述之證據，均同意有證據能力（見審交易卷第31頁），本院審酌該等證據資料製作時之情況，並無違法不當之瑕疵，認為以之作為證據應屬適當，依刑事訴訟法第159 條之5 第1 項規定，認該等證據資料均有證據能力。\n",
    "二、事實認定之理由：\n",
    "　㈠訊據被告吳三明固不否認有於前揭時間騎乘前開電動自行車，與告訴人所騎乘前開機車發生碰撞之事實，惟矢口否認有何過失傷害犯行，辯稱：我有回頭查看，確認告訴人機車離我尚有50公尺之距離，始起駛進入保泰路西向東之車道，我當時已完成右轉進入車道，告訴人應有注意到我，係告訴人自己超速，其應減速以防免車禍發生云云。\n",
    "　㈡經查，被告於110年1月27日上午11時54分許，騎乘電動自行車，自前開路口東南角、鄰近斑馬線交界處之路旁起駛，由西南往東北方向斜切駛入保泰路，欲沿保泰路由西往東方向行駛；適有告訴人騎乘車牌號碼000-0000號普通重型機車沿保泰路由西往東方向直行而來，見狀閃避不及，兩車遂發生碰撞，致告訴人人車倒地，受有前開傷勢等事實，業據告訴人於本院審理中證述綦詳（見院卷第27至29頁），復有道路交通事故現場圖、道路交通事故調查報告表㈠㈡-1、現場照片、杏和醫院診斷證明書、本院現場監視器檔案勘驗筆錄及擷取照片等在卷可稽（見警卷第15、31至52頁；院卷第25、26、37至43頁），並為被告所是認（見院卷第33頁），是此部分事實應堪認定。\n",
    "　㈢又被告雖辯稱其有回頭查看，確認告訴人機車離我尚有50公尺之距離，始起駛進入保泰路西向東之車道，且其案發時已完成右轉進入車道，係告訴人要注意其車輛並減速才對，但告訴人人卻超速追撞致生本案車禍云云。然本院觀諸現場監視器畫面，可見於：⑴檔名「L111523_00000000000000000」檔案時間4秒時，被告騎乘電動自行車起駛後，由西南往東北方向、斜向駛入保泰路，欲沿保泰路由西往東方向行駛，未見被告有何轉頭查看保泰路由西往東方向來車之舉動。⑵該檔案時間5秒時，被告騎乘電動自行車駛入保泰路由西往東方向外側車道，此時畫面左方可見告訴人騎乘機車自被告同向後方行駛而來，又告訴人此時閃避不及，告訴人車頭與被告電動自行車後方發生碰撞而人車倒地等節，亦有本院勘驗筆錄及擷取照片在卷為憑（見院卷第26、40至43頁），則被告辯稱其有回頭查看確認與告訴人間距離云云，顯與客觀事證不符，應屬臨訟卸責之詞，要無足採。再者，依照前揭現場監視器畫面，亦可知被告起駛時間距嗣後其與告訴人發生撞擊之時間，僅有短短1、2秒而已，非但難認告訴人於此等極為短暫之時間下，有何注意並防免追撞之可能性，反而呈現告訴人應未注意並禮讓直行而來之車輛，亦未確保與行進中之車輛有足夠之距離，即貿然起駛切入上述車道，使告訴人倉促之下不及反應而發生碰撞之情狀，甚為灼然。是被告辯稱其於案發時已完成右轉進入車道，係告訴人自己要注意以防止車禍發生云云，當屬避重就輕之詞，要無足採。此外，被告另辯稱告訴人之車速過快云云，然遍觀全卷，尚無證據足認告訴人有超速駕駛之情事，自無從認定告訴人亦有過失，併予敘明。\n",
    "　㈣按慢車起駛前應注意前後左右有無障礙或車輛行人，並應讓行進中之車輛行人優先通行，道路交通安全規則第89條第1項第7款定有明文。另依同規則第6條第1款第3目規定，慢車之種類包含自行車在內，而電動自行車亦為自行車之一種。查被告既騎乘電動自行車，對於前揭規定自應注意遵守，再觀諸前揭道路交通事故調查報告表㈠、㈡-1所載，案發當時天候晴、日間自然光線、柏油路面乾燥無缺陷及障礙物、視距良好，並無不能注意之情事，猶未注意並禮讓沿保泰路由西往東方向行進中之車輛，即貿然起駛由西南往東北方向斜切駛入保泰路，欲沿保泰路由西往東方向行駛，導致沿保泰路由西往東行駛而來之告訴人閃避不及，發生本案車禍，被告顯有上開起駛時未注意前後左右之車輛、未禮讓行進中之車輛之過失無疑。且本案經送高雄市車輛行車事故鑑定委員會，鑑定結果亦認：⑴被告慢車起駛前未讓行進中之車輛先行，為肇事原因。⑵告訴人無肇事因素等情，有卷附鑑定意見書在卷可據（見偵卷第61、62頁）。此外，告訴人確因被告此舉受有前開傷勢，是被告過失行為與告訴人之傷害結果間具有相當因果關係，甚為灼然。\n",
    "　㈤綜上所述，本件事證已臻明確，被告前揭犯行洵堪認定，應\n",
    "    予依法論科。此外，當事人聲請調查之證據不能調查者，或待證事實已臻明瞭無再調查之必要者，應認為不必要，刑事訴訟法第163 條之2 第2 項定有明文。查被告雖聲請傳喚證人「當時把被告從地上扶起來的小姐」云云（見院卷第33頁），惟查被告未能提供該人之真實姓名、年籍、聯絡方式供本院傳喚，已屬不能調查；況被告被訴過失傷害之構成要件事實已臻明瞭，業經審認如前。依照前揭規定，本院乃認前揭聲請應無調查必要，併此敘明。\n",
    "三、論罪科刑之依據： \n",
    "　㈠核被告所為，係犯刑法第284 條前段之過失傷害罪。又被告肇事後，於有偵查犯罪權限之機關未發覺犯罪前，向前往醫院處理之員警坦承為肇事人，自首而接受裁判，有道路交通事故肇事人自首情形紀錄表存卷可查（見警卷第45頁），爰依刑法第62條前段之規定減輕其刑。\n",
    "　㈡爰以行為人之責任為基礎，審酌被告因前揭疏失釀成本件交\n",
    "    通事故，致使告訴人受有前開傷勢，應值非難；復衡以其於審理中飾詞否認犯行，犯後態度非佳，且至本院審理終結迄未與告訴人達成和解或為賠償；兼衡其前科素行、自述為國小畢業智識程度、經濟狀況貧寒、身罹肝癌（見院卷第35 頁）等一切情狀，量處如主文所示之刑，並衡酌前開犯罪情節，諭知如主文所示之易科罰金折算標準。\n",
    "據上論斷，應依刑事訴訟法第299條第1項前段，判決如主文。\n",
    "本案經檢察官吳協展提起公訴，檢察官李文和到庭執行職務。\n",
    "中　　華　　民　　國　　111 　年　　5 　　月　　20　　日\n",
    "                  刑事第四庭    法　官  姚億燦\n",
    "以上正本證明與原本無異。\n",
    "如不服本判決應於收受判決後20日內向本院提出上訴書狀，並應敘述具體理由。其未敘述上訴理由者，應於上訴期間屆滿後20日內向本院補提理由書(均須按他造當事人之人數附繕本)「切勿逕送上級法院」。\n",
    "因疫情而遲誤不變期間，得向法院聲請回復原狀。\n",
    "中　　華　　民　　國　　111 　年　　5 　　月　　20　　日\n",
    "                                書記官  莊昕睿\n",
    "附錄本判決所引法條 \n",
    "中華民國刑法第284 條\n",
    "因過失傷害人者，處1 年以下有期徒刑、拘役或10萬元以下罰金；致重傷者，處3 年以下有期徒刑、拘役或30萬元以下罰金。\n",
    "''',\n",
    "'''\n",
    "裁判字號：臺灣新竹地方法院 111 年竹交簡字第 311 號刑事判決\n",
    "臺灣新竹地方法院刑事簡易判決\n",
    "111年度竹交簡字第311號\n",
    "公  訴  人  臺灣新竹地方檢察署檢察官\n",
    "被      告  葉士揚\n",
    "\n",
    "\n",
    "上列被告因過失傷害案件，經檢察官提起公訴（111年度偵字第4429號），因被告自白犯罪，本院認宜以簡易判決處刑，爰不經通常審判程序，逕以簡易判決處刑如下：\n",
    "    主    文\n",
    "葉士揚犯過失傷害罪，處有期徒刑貳月，如易科罰金，以新臺幣壹仟元折算壹日。\n",
    "    事實及理由\n",
    "一、葉士揚於民國111年1月8日下午5時許，駕駛車牌號碼0000-00號自用小客車，沿新竹縣芎林鄉文山路由西往東方向行駛，於同日下午5時10分許，行經文山路與文山路1000巷路口時，原應注意汽車行駛時，駕駛人應注意車前狀況，並隨時採取必要之安全措施，且轉彎車應讓直行車先行，而依當時天候晴、日間自然光線、柏油路面乾燥無缺陷、無障礙物、視距良好，並無不能注意之情形，竟疏未注意對向直行車，貿然左轉，適有許慈玲騎乘車牌號碼000-000號普通重型機車沿文山路由東往西方向駛至上開路口，見狀閃避不及而發生碰撞，致許慈玲受有右臉及嘴唇撕裂傷經縫合（右臉7針、嘴巴1針）、右手指挫瘀傷、右膝挫瘀傷、左手挫瘀傷、左大腿挫瘀傷、右膝皮下血腫與挫傷、頸部挫傷合併頸椎滑脫之傷害。\n",
    "二、本案證據，均引用附件檢察官起訴書之記載。另補充證據被告葉士揚於本院訊問時之自白。\n",
    "三、論罪科刑：\n",
    "　㈠核被告所為，係犯刑法第284條前段之過失傷害罪。\n",
    "　㈡按對於未發覺之罪自首而受裁判者，得減輕其刑，刑法第62條前段定有明文。\n",
    "　　查被告於事故發生後，停留現場待員警到場處理時，即主動坦承肇事，有道路交通事故肇事人自首情形紀錄表附卷可稽，與刑法第62條前段規定自首之條件相符，爰依該規定減輕其刑。\n",
    "  ㈢爰以行為人之責任為基礎，審酌因被告本案之過失行為，致\n",
    "    許慈玲受傷，所為實無足取，本當從重量刑。惟念及被告坦承犯行，且被告除本案之外，別無其他刑案紀錄，素行尚可，有臺灣高等法院被告前案紀錄表可佐，兼衡許慈玲之傷勢情形、被告雖與許慈玲達成和解，但未依約給付賠償金，及被告之生活狀況、智識程度等一切情狀，量處如主文所示之刑，並諭知易科罰金之折算標準。\n",
    "四、據上論斷，應依刑事訴訟法第449條第2項、第3項、第454條第2項，逕以簡易判決處刑如主文。　\n",
    "五、如不服本判決，應於判決送達後20日內，向本院提出上訴狀（附繕本），上訴於管轄之第二審地方法院合議庭。　\n",
    "本案經檢察官陳興男提起公訴。\n",
    "中　　華　　民　　國　　111 　年　　7 　　月　　5 　　日\n",
    "                    刑事第四庭  法　官　楊祐庭\n",
    "以上正本證明與原本無異。\n",
    "中　　華　　民　　國　　111 　年　　7 　　月　　5 　　日\n",
    "                                書記官  陳紀語\n",
    "附錄本案論罪科刑法條：\n",
    "刑法第284條：\n",
    "因過失傷害人者，處一年以下有期徒刑、拘役或十萬元以下罰金；致重傷者，處三年以下有期徒刑、拘役或三十萬元以下罰金。\n",
    "附件：\n",
    "臺灣新竹地方檢察署檢察官起訴書\n",
    "                                     111年度偵字第4429號\n",
    "　　被　　　告　葉士揚　\n",
    "\n",
    "上列被告因過失傷害案件，業經偵查終結，認應提起公訴，茲將犯罪事實及證據並所犯法條分敘如下：\n",
    "　　　　犯罪事實\n",
    "一、葉士揚於民國111年1月8日17時10分許，駕駛車牌號碼0000-00號自用小客車，沿新竹縣芎林鄉文山路由東往西方向行駛，行經文山路與文山路1000巷路口時，原應注意汽車行駛時，駕駛人應注意車前狀況，並隨時採取必要之安全措施，且轉彎車應讓直行車先行，而當時並無不能注意之情形，竟疏未注意及此，貿然左轉，適有許慈玲騎乘車牌號碼000-000號普通重型機車沿文山路由西往東方向駛至上開路口，見狀閃避不及而發生碰撞，致許慈玲受有右臉及嘴唇撕裂傷經縫合（右臉七針、嘴巴一針）、右手指挫瘀傷、右膝挫瘀傷、左手挫瘀傷、左大腿挫瘀傷、右膝皮下血腫與挫傷、頸部挫傷合併頸椎滑脫等傷害。\n",
    "二、案經許慈玲訴由新竹縣政府警察局橫山分局報告偵辦。\n",
    "　　　　證據並所犯法條\n",
    "一、證據清單及待證事實：\n",
    "編號\n",
    "\n",
    "證據名稱\n",
    "\n",
    "待證事實\n",
    "\n",
    "1\n",
    "\n",
    "被告葉士揚於警詢及偵查中之自白\n",
    "\n",
    "全部犯罪事實。\n",
    "\n",
    "2\n",
    "\n",
    "告訴人許慈玲於警詢及偵查中之指訴\n",
    "\n",
    "證明全部犯罪事實。\n",
    "\n",
    "3\n",
    "\n",
    "道路交通事故現場圖、道路交通事故調查報告表㈠、㈡、道路交通事故初步分析研判表各1份、現場及車損照片共19張\n",
    "\n",
    "證明本件交通事故發生之經\n",
    "過等事實。\n",
    "\n",
    "4\n",
    "\n",
    "國立臺灣大學醫學院附設醫院新竹臺大分院生醫醫院診斷證明書、中國醫藥大學新竹附設醫院診斷證明書共2紙\n",
    "\n",
    "證明告訴人受有如犯罪事實\n",
    "欄所載傷害之事實。\n",
    "\n",
    "\n",
    "\n",
    "二、核被告所為，係犯刑法第284條前段之過失傷害罪嫌。\n",
    "三、依刑事訴訟法第251條第1項提起公訴。\n",
    "　　此　致\n",
    "臺灣新竹地方法院\n",
    "中　　華　　民　　國　  111　　年　 　5  　月　   9 　日\n",
    "                               檢  察  官  陳興男\n",
    "本件正本證明與原本無異   \n",
    "中　　華　　民　　國    111    年     5    月    12 　日\n",
    "                               書  記  官  吳柏萱\n",
    "''',\n",
    "'''\n",
    "裁判字號：臺灣高雄地方法院 112 年簡字第 1106 號刑事判決\n",
    "臺灣高雄地方法院刑事簡易判決\n",
    "112年度簡字第1106號\n",
    "聲  請  人  臺灣高雄地方檢察署檢察官\n",
    "被      告  林曉慧\n",
    "\n",
    "\n",
    "上列被告因竊盜案件，經檢察官聲請以簡易判決處刑（112年度偵字第4183號），本院判決如下：\n",
    "    主  文\n",
    "林曉慧犯竊盜罪，處拘役拾日，如易科罰金，以新臺幣壹仟元折算壹日。\n",
    "    事實及理由\n",
    "一、本案之犯罪事實及證據，除補充理由如下外，均引用檢察官聲請簡易判決處刑書之記載（如附件）。\n",
    "二、被告林曉慧雖否認有何竊盜犯意，辯稱：當時吃了安眠藥，不清楚為何要拿等語。然被告於事發當日係駕駛汽車前往本案服飾店，於進入該店家後，先與店員葉姿誼對話、表示欲購買短袖上衣，並於試穿上衣、長褲後，駕駛汽車離開現場等情，業據證人即店員葉姿誼於警詢中陳述明確（見警卷第13至15頁），並有監視器錄影畫面翻拍照片6張（見警卷第22至24頁）在卷可參；是被告於事發當時既可駕駛汽車，且能與店員葉姿誼對答，可見被告當時之反應、對話均屬正常，應非係被告服用安眠藥可能產生之副作用所致。參以被告試穿衣褲、駕駛汽車等舉動，均需運用大腦高階之認知、協調及執行功能，整個過程行為複雜度非低，足認被告行為當時各該舉措，均係其出於完全充分之自由意識下所為，其控制行為能力未因此有顯著降低甚至喪失之情形；是被告於行為當時之所為，並未受到服用藥物影響，應堪認定。再者，被告為具有相當智識、社會經驗之成年人，當知將未結帳物品攜離店家，即有將該等物品歸於己身支配管領之意，而屬竊盜將遭受刑事追訴，竟仍執意為之，益徵被告主觀上自始即有意圖不法所有之竊盜故意甚明。被告所辯上情，委不足採。從而，本案事證明確，被告前揭竊盜犯行，堪以認定，應依法論罪科刑。\n",
    "三、論罪科刑：\n",
    "(一)核被告林曉慧所為，係犯刑法第320條第1項之竊盜罪。\n",
    "(二)爰以行為人之責任為基礎，審酌被告不思以正當方法獲取所需，為貪圖不法利益，率爾竊取他人財物，顯見缺乏對他人財產權之尊重，所為實有不該；惟念及被告犯後坦承客觀犯行，態度尚可；復審酌被告犯罪手段尚屬平和，且其所竊得物品價值約新臺幣480元，業據被害人劉品君領回乙節，有贓物認領保管單在卷可參（見警卷第21頁），犯罪所生之損害已有減輕；兼衡被告於警詢時自述之教育程度、家庭經濟狀況（因涉及被告個人隱私，不予揭露），及如臺灣高等法院被告前案紀錄表所示之前科素行等一切情狀，量處如主文所示之刑，並諭知如易科罰金之折算標準。\n",
    "四、被告所竊得之杏色短袖上衣1件，為被告犯罪所得，然已發還被害人，業如前述，爰依刑法第38條之1第5項規定，不予宣告沒收。\n",
    "五、依刑事訴訟法第449條第1項前段、第3項、第454條第2項，逕以簡易判決處刑如主文。\n",
    "六、如不服本判決，得自判決送達之日起20日內，向本院提出上訴狀（須附繕本及表明上訴理由），上訴於本院管轄之第二審地方法院合議庭。\n",
    "本案經檢察官劉慕珊聲請以簡易判決處刑。\n",
    "中　　華　　民　　國　　112 　年　　4 　　月　　24　　日\n",
    "                  高雄簡易庭  法　官  張嘉芳\n",
    "以上正本證明與原本無異。\n",
    "如不服本判決，應於判決送達之日起20日內向本院提出上訴書狀。　\n",
    "中　　華　　民　　國　　112 　年　　4 　　月　　24　　日\n",
    "                              郭素蓉  郭素蓉\n",
    "附錄本案論罪科刑法條：\n",
    "《刑法第320條第1項》\n",
    "意圖為自己或第三人不法之所有，而竊取他人之動產者，為竊盜\n",
    "罪，處五年以下有期徒刑、拘役或五十萬元以下罰金。\n",
    "\n",
    "附件：\n",
    "臺灣高雄地方檢察署檢察官聲請簡易判決處刑書\n",
    "                                     112年度偵字第4183號\n",
    "　　被　　　告　林曉慧　（年籍資料詳卷）\n",
    "\n",
    "上被告因竊盜案件，業經偵查終結，認為宜以簡易判決處刑，茲將犯罪事實及證據並所犯法條分敘如下：\n",
    "　　　　犯罪事實\n",
    "一、林曉慧意圖為自己不法之所有，基於竊盜之犯意，於民國111年8月6日15時31分許，在高雄市○○區○○○路0號「POPCORN服飾店」內，趁該店店員葉姿誼不注意之際，徒手竊取該店內之杏色短袖上衣1件（售價新臺幣480元），得手後將該商品藏放在隨身包包內，隨即駕駛車牌號碼000-0000號自用小客車逃離現場。嗣經葉姿誼發覺遭竊，調閱相關監視器畫面後報警處理，而循線查悉上情，並扣得上揭遭竊之商品(已發還上開服飾店店長劉品君)。\n",
    "二、案經高雄市政府警察局新興分局報告偵辦。\n",
    "　　　　證據並所犯法條\n",
    "一、上開犯罪事實，業據被告林曉慧於警詢中坦承不諱，核與證人劉品君、葉姿誼於警詢時證述之情節相符，且有扣押筆錄、扣押物品目錄表、贓物認領保管單、車輛詳細資料報表、扣案物照片各1份、監視錄影翻拍照片6張等附卷可資佐證，足認被告之自白與事實相符，其犯嫌洵堪認定。\n",
    "二、核被告所為，係犯刑法第320條第1項之竊盜罪嫌。\n",
    "三、依刑事訴訟法第451條第1項聲請逕以簡易判決處刑。\n",
    "　　此　　致\n",
    "臺灣高雄地方法院\n",
    "中　　華　　民　　國　 112　　年　　2 　　月　　20　　日\n",
    "　     　　　　             　檢　察　官  劉慕珊\n",
    "'''\n",
    "]"
   ]
  },
  {
   "cell_type": "code",
   "execution_count": null,
   "metadata": {},
   "outputs": [],
   "source": [
    "import pandas as pd \n",
    "df = pd.DataFrame(columns=[\"jud\", \"re_jud\"])\n",
    "\n",
    "output_segmented = []\n",
    "for index, jud in enumerate(input_text_list):\n",
    "    jud = jud.replace(\"\\n\", \"\").replace(\"\\u3000\", \"\").replace(\" \",\"\")\n",
    "    df.loc[len(df), \"jud\"] = jud\n",
    "    result = segement_between_fact_above(jud)\n",
    "    if not result:\n",
    "        result = segement_exceptions(jud)\n",
    "        if not result:\n",
    "            result = jud\n",
    "    df.loc[len(df)-1, \"re_jud\"] = result\n",
    "    output_segmented.append(result)\n",
    "df.to_csv(\"20230702_result.xlsx\", index=False, encoding=\"utf-8-sig\")"
   ]
  },
  {
   "cell_type": "code",
   "execution_count": null,
   "metadata": {},
   "outputs": [],
   "source": [
    "# checkpoint_path = r\"F:\\Lawrence\\ChatGLM-6B\\ptuning\\output\\20230618_hackson_3600-6b-pt-1024-2e-2\\checkpoint-{}\"\n",
    "# checkpoint_num = 100\n",
    "# tokenizer = AutoTokenizer.from_pretrained(\"THUDM/chatglm-6b\", trust_remote_code=True)\n",
    "# merged_model = load_glm_checkpoint(checkpoint_path.format(str(checkpoint_num)))\n",
    "\n",
    "df = pd.DataFrame(columns=[\"jud\", \"re_jud\", \"0\", \"1500\", \"3000\", \"4500\"])\n",
    "output_segmented = []\n",
    "for index, jud in enumerate(input_text_list):\n",
    "    jud = jud.replace(\"\\n\", \"\").replace(\"\\u3000\", \"\").replace(\" \",\"\")\n",
    "    df.loc[len(df), \"jud\"] = jud\n",
    "    result = segement_between_fact_above(jud)\n",
    "    if not result:\n",
    "        result = segement_exceptions(jud)\n",
    "        if not result:\n",
    "            result = jud\n",
    "    df.loc[len(df)-1, \"re_jud\"] = result\n",
    "    output_segmented.append(result)\n",
    "\n",
    "prediction_list = []\n",
    "for input_text_loc in range(0, 6000, 1500):\n",
    "    for index, re_jud in enumerate(output_segmented):\n",
    "        input_text = re_jud[input_text_loc:input_text_loc+1500]\n",
    "        prediction, history = merged_model.chat(tokenizer, input_text, history=[])\n",
    "        prediction_list.append(prediction)\n",
    "        df.loc[index, str(input_text_loc)] = prediction\n",
    "df.to_csv(\"20230702_result.csv\", index=False, encoding=\"utf-8-sig\")\n"
   ]
  },
  {
   "attachments": {},
   "cell_type": "markdown",
   "metadata": {},
   "source": [
    "# Preprocessing"
   ]
  },
  {
   "attachments": {},
   "cell_type": "markdown",
   "metadata": {},
   "source": [
    "###  Def glm_dataset_format"
   ]
  },
  {
   "cell_type": "code",
   "execution_count": 1,
   "metadata": {},
   "outputs": [],
   "source": [
    "# glm_dataset_format\n",
    "import json\n",
    "\n",
    "dataset_name = \"20230419_merge_replaced.json\"\n",
    "def print_jud(input_text, char_num=60):\n",
    "  num = 0\n",
    "  text = \"\"\n",
    "  for c in input_text:\n",
    "    text+=c\n",
    "    num+=1\n",
    "    if num==char_num:\n",
    "      text+=\"\\n\"\n",
    "      # print(text)\n",
    "      # text=\"\"\n",
    "      num=0\n",
    "  # text += \"\\n-----------\\n\"\n",
    "  return text\n",
    "  # print(text)\n",
    "def read_glm_dataset(file_name):\n",
    "    with open(file_name, \"r\", encoding=\"utf-8\") as json_file:\n",
    "        glm_dataset = [json.loads(line) for line in json_file]\n",
    "    return glm_dataset\n",
    "    \n",
    "def output_glm_datast(file_name, dataset):\n",
    "    with open(file_name, \"w\", encoding=\"utf-8\") as json_file:\n",
    "        for line in dataset:\n",
    "            json_file.write(json.dumps(line,ensure_ascii=False))\n",
    "            json_file.write(\"\\n\")\n",
    "\n",
    "glm_dataset = read_glm_dataset(dataset_name)\n",
    "# print(glm_dataset[0])"
   ]
  },
  {
   "cell_type": "code",
   "execution_count": 64,
   "metadata": {},
   "outputs": [
    {
     "name": "stdout",
     "output_type": "stream",
     "text": [
      "segmented_juds len: 269\n",
      "not_segmented_juds len: 0\n",
      "Total juds: 269\n",
      "not_segmented_juds:  []\n"
     ]
    }
   ],
   "source": [
    "# Preprocessing 1: Segementatioin between 主文(含) and 綜上所述、據上論斷, summary 700 tokesn\n",
    "import re\n",
    "import pandas as pd\n",
    "\n",
    "juds = [jud[\"content\"] for jud in glm_dataset]\n",
    "\n",
    "# ---Segementatioin between 事實(含) and 綜上所述、據上論斷\n",
    "def segement_between_fact_above(jud):\n",
    "    # result = re.findall(\".+主 *文.+?(事 *實.+)(綜上所述|據上論斷)\", jud)\n",
    "    result = re.search(\".+主 *文.+?(事 *實.+)(綜上所述|據上論斷|爰.*?審酌)\", jud)\n",
    "    if result:\n",
    "        result = result.group(1)\n",
    "    # print(len(result.groups()))\n",
    "    return result\n",
    "def segement_exceptions(jud):\n",
    "    result = re.search(\"(事 *實.+如不服.+?。)|(公訴不受理.+如\\d*主\\d*文)\", jud)\n",
    "    if result:\n",
    "        result = result.group(result.lastindex)\n",
    "    return result\n",
    "\n",
    "segmented_juds = []\n",
    "segmented_juds1 = []\n",
    "segmented_juds2 = []\n",
    "segmented_juds_len = []\n",
    "not_segmented_juds = []\n",
    "output_segmented = []\n",
    "for index, jud in enumerate(juds):\n",
    "    result = segement_between_fact_above(jud)\n",
    "    if result:\n",
    "        segmented_juds.append(str(index)+\"\\n\"+result)\n",
    "        segmented_juds1.append(str(index)+\"\\n\"+result)\n",
    "        # print_jud(str(index)+\"\\n\"+result)\n",
    "        # print(\"\\n\\n\")\n",
    "    else:\n",
    "        result = segement_exceptions(jud)\n",
    "        if result:\n",
    "            segmented_juds.append(str(index)+\"\\n\"+result)\n",
    "            segmented_juds2.append(str(index)+\"\\n\"+result)\n",
    "        else:\n",
    "            not_segmented_juds.append(index)\n",
    "            result = jud\n",
    "    output_segmented.append(result)\n",
    "    segmented_juds_len.append(len(result))\n",
    "# ---Evaluation\n",
    "print(\"segmented_juds len:\", len(segmented_juds))\n",
    "print(\"not_segmented_juds len:\", len(not_segmented_juds))\n",
    "# print(\"Total juds:\", len(segmented_juds)+len(not_segmented_juds))\n",
    "print(\"Total juds:\", len(output_segmented))\n",
    "print(\"not_segmented_juds: \", not_segmented_juds)\n",
    "# 存成兩個list\n",
    "# indices, elements = zip(*[(index, jud) for index, jud in enumerate(segmented_juds)])\n",
    "\n",
    "# ---儲存csv\n",
    "output_csv = pd.DataFrame({\"jud\":juds, \"segemented_jud\":output_segmented, \"segmented_juds_len\":segmented_juds_len})\n",
    "output_csv.to_csv(\"20230430_preprocessing1_segemtned.csv\", index=False, encoding=\"utf-8-sig\")\n"
   ]
  },
  {
   "cell_type": "code",
   "execution_count": null,
   "metadata": {},
   "outputs": [],
   "source": [
    "threshold = 1500\n",
    "print(len(segmented_juds1))\n",
    "for index, jud in enumerate(segmented_juds1):\n",
    "    # print(print_jud(f\"{index}:\\n\"+juds[index]+\"\\n-----------------------\\n\"))\n",
    "    if len(jud)>threshold:\n",
    "        print((f\"\\n\\n\\n\\n\\n\\n\\n\\n\\n\\n\\n{index}:\\n\"+jud+\"\\n-----------------------\\n\"))"
   ]
  },
  {
   "cell_type": "code",
   "execution_count": null,
   "metadata": {},
   "outputs": [],
   "source": [
    "# Preprocessing 2: Remove all signs, summary 700 tokesn"
   ]
  },
  {
   "attachments": {},
   "cell_type": "markdown",
   "metadata": {},
   "source": [
    "### Train_test_split"
   ]
  },
  {
   "cell_type": "code",
   "execution_count": 66,
   "metadata": {},
   "outputs": [
    {
     "name": "stdout",
     "output_type": "stream",
     "text": [
      "事實及理由15一、事實：莊建弘未考領有普通重型機車（起訴書誤載為「普通16重型機器腳踏車」，應予更正）駕駛執照，其於民國109年171月17日7時31分許，騎乘車牌號碼000-0000號普通重型機18車，沿屏東縣萬丹鄉萬生村丹榮路由北往南方向行駛（無證19據證明於車禍前其行駛於內側禁行機車之快車道），行經丹20榮路與大學路之設有行車管制號誌之交岔路口，欲左轉行駛21於大學路時，本應注意機車行駛至交岔路口，內側車道設有22禁行機車標誌或標線者，應依兩段方式進行左轉，不得由內23側或其他車道左轉，且「機慢車兩段左轉」附牌係用以告示24左轉大型重型機車以外之機車或慢車駕駛人應遵照號誌指示25，在號誌顯示允許直行時先行駛至右前方路口之左轉待轉區26等待左轉，俟該方向號誌顯示允許直行後，再行續駛，以兩27段方式完成左轉，又機車行駛至交岔路口，其行進、轉彎應28遵守燈光號誌，圓形紅燈表示禁止通行，不得超越停止線或29進入路口，而依當時天候晴、日間自然光線、柏油路面乾燥30、無缺陷、道路無障礙物、視距良好等情形，客觀上並無不31能注意之情事，詎莊建弘於行經上開交岔路口時，竟疏未注32意其行向之行車管制號誌顯示為圓形紅燈，即貿然自該內側１01劃設有「禁行機車」之快車道逕行闖越紅燈左轉，適有鍾運02豐騎乘車牌號碼000-0000號普通重型機車沿大學路由東往西03方向行駛，並依其行向顯示之圓形綠燈駛入上開交岔路口時04，兩車閃避不及致兩車車頭發生碰撞，雙方均人車倒地，鍾05運豐因而受有下背和骨盆挫傷、右側足部擦傷及右側手肘擦06傷等傷害，嗣經警方據報到場處理，始悉上情。案經鍾運豐07訴由屏東縣政府警察局屏東分局報告臺灣屏東地方檢察署檢08察官偵查起訴。09二、認定事實所憑之證據及理由：10一前揭事實，業據被告於本院訊問時坦承不諱（見本院卷第22110頁），核與證人即告訴人鍾運豐於警詢及偵訊時之證述，12情節大致相符，並有員警職務報告、道路交通事故現場圖、13道路交通事故調查報告表一、二各1份、屏東縣政府警察局14舉發違反道路交通管理事件通知單影本2份（闖紅燈左轉、15無照駕駛）、道路交通事故照片16張、監視器錄影畫面擷取16照片8張、車輛詳細資料報表、證號查詢機車駕駛人資料表17各2份、GOOGLEMAP網路列印照片5張（見本院卷第85-9118、231頁）、警員職務報告暨所附事故現場拍攝照片4張（19見本院卷第109-113頁）等在卷可稽，足認被告前揭任意性20自白與事實相符，堪予採信。21二被告之過失情節：221.道路交通安全規則第102條第1項第1款規定：「汽車行駛23至交岔路口，其行進、轉彎，應遵守燈光號誌」，同規則第242條第1款規定：「汽車：指在道路上不依軌道或電力架線25而以原動機行駛之車輛（包括機車）。」。而道路交通標誌26標線號誌設置規則第206條第1項第5款第1目規定：「行27車管制號誌各燈號顯示之意義如左：五、圓形紅燈（一）車28輛面對圓形紅燈表示禁止通行，不得超越停止線或進入路口29。」。302.又道路交通安全規則第99條第2項第1款規定：「機車行駛31至交岔路口，其轉彎，應依標誌或標線之規定行駛；無標誌２01或標線者，應依第102條及下列規定行駛：一、內側車道設02有禁行機車標誌或標線者，應依兩段方式進行左轉，不得由03內側或其他車道左轉。」。而道路交通標誌標線號誌設置規04則第183條之1第1項前段規定：「快慢車道分隔線，用以05指示快車道外側邊緣之位置，劃分快車道與慢車道之界線。06其線型為白實線，線寬為十公分，除臨近路口得採車道線劃07設，並以六十公尺為原則外，應採整段設置，但交岔路口免08設之。」，第178條規定：「『禁行機車』標字，用以告示09本車道禁止大型重型機車以外之機車通行。繪設於路段起點10。路段過長時，得於路段中加繪之。」，第65條規定：「機11慢車兩段左（右）轉標誌『遵20』、『遵20.1』，用以告示12左（右）轉大型重型機車以外之機車或慢車駕駛人應遵照號13誌指示，在號誌顯示允許直行時先行駛至右（左）前方路口14之左（右）轉待轉區等待左（右）轉，俟該方向號誌顯示允15許直行後，再行續駛，以兩段方式完成左（右）轉。本標誌16設於實施機慢車兩段左（右）轉路口附近顯明之處，並配合17劃設機慢車左（右）轉待轉區標線。本標誌下緣得設『機慢18車兩段左（右）轉』附牌」。193.查被告於案發時固未考領有合格之駕駛執照，此有證號查詢20機車駕駛人資料表可佐（見警卷第58頁），然其為65年8月21間生，有其個人基本資料查詢結果1份在卷可稽（見警卷第2263頁），自陳教育程度為國中肄業（見警卷第9頁受詢問人23欄），是依其智識程度，參以其既已決意騎乘上開機車行駛24於道路，則其對於上開規則自應確實遵守。而案發當時天候25晴、日間自然光線、柏油路面乾燥、無缺陷、道路無障礙物26、視距良好等情形，有上揭道路交通事故調查報告表（一）27在卷足憑（見警卷第17頁），足認客觀上並無不能注意之情28事。詎被告騎乘上開機車行經上開交岔路口時，係在丹榮路29中央分隔島等待左轉，此經被告供陳明確（見警卷第7頁）30，並有監視器錄影畫面擷取照片在卷可佐（見警卷第49-5131頁），而觀諸前引之監視器畫面所示丹榮路與大學路之兩側３01車輛，大學路段車輛往來頻繁，丹榮路段之車輛則均在停等02線前方停等，可徵證人即告訴人於偵訊時證稱當時被告係闖03紅燈左轉往大學路而與之發生撞擊等語（見偵卷第49頁），04堪信為真實，另審酌被告所停等之中央分隔島即丹榮路由北05往南方向路段，地面劃設有快慢車道分隔線，且內側車道之06地面繪有「禁行機車」之標字，道路上方並設置有「機慢車07兩段左轉」附牌乙情，有警員職務報告暨所附現場照片在卷08可佐（見本院卷第109-113頁），是依現場劃設之交通標誌09標線可知，被告本應行駛於外側慢車道，再依行車管制號誌10之燈號而為兩段式左轉，然被告竟疏未注意，騎乘上開普通11重型機車在內側劃設有「禁行機車」之快車道上停等，並於12其行向顯示紅燈號誌時逕行左轉，因而於左轉後撞擊依綠燈13號誌行駛之告訴人，致告訴人當場人車倒地並受有前揭傷害14結果，是倘被告能依前揭規定為兩段式左轉並於綠燈時起駛15而不闖越紅燈，當不致與告訴人所騎乘之機車發生碰撞並致16告訴人受傷，是被告駕車行為自有前揭過失甚明，且其過失17行為與告訴人所受前開傷害間別無其他原因介入而具有相當18因果關係，殆無疑義。194.又本案經送請交通部公路總局高雄區監理所屏澎區車輛行車20事故鑑定會鑑定結果，亦認：「一、莊建弘無照駕駛普通重21機車，行經行車管制號誌交岔路口，未遵守號誌行駛（紅燈22作左轉），為肇事原因。二、鍾運豐駕駛普通重型機車，行23經行車管制號誌交岔路口，綠燈左轉，無肇事因素。（法規24依據：道路交通安全規則第102條第1項第1款、第50條第251項）」等情，有該鑑定會鑑定意見書1份在卷可稽（見本26院卷151-153頁），亦可資參照。至於公訴意旨及上開鑑定27意見就被告過失情節部分，均漏未審酌前述未為兩段式左轉28之過失，惟按車禍鑑定委員會之鑑定意見，僅可供法院認定29事實之參照，法院不受鑑定意見之拘束（最高法院81年台上30字第2315號判決意旨參照），準此，被告之過失情節及相關31事證業經本院認定如前，不受鑑定意見之拘束，附此敘明。４01三綜上，足認被告任意性自白與事實相符，堪信為真實。本案02事證明確，被告犯行洵堪認定，應依法論科。03三、論罪科刑：04一變更起訴法條：051.按道路交通管理處罰條例第86條第1項中「無駕駛執照駕車06」、「酒醉駕車」、「吸食毒品或迷幻藥駕車」、「行駛人07行道」既與「行經行人穿越道不依規定讓行人優先通行」均08屬就刑法第276條第1項、第2項及同法第284條第1項、09第2項各罪犯罪具特殊要件時予以加重處罰之規定，乃就犯10罪類型變更之個別犯罪行為予以加重，自屬刑法分則加重之11性質而成為另一獨立之罪名（最高法院92年度第1次刑事庭12會議決議、99年度台非字第198號判決參照）。查被告於本13案車禍發生時並未考領普通小型車駕駛執照乙情，業如前述14，則被告無駕駛執照駕車因而致人受傷，依法應負過失致人15受傷之刑事責任，已符道路交通管理處罰條例第86條第1項16之要件，自應依該規定加重其刑。172.故核被告所為，係犯道路交通管理處罰條例第86條第1項、18刑法第284條前段之無駕駛執照駕車因過失致人受傷罪。起19訴意旨認被告僅涉犯刑法第284條前段之過失傷害罪嫌，而20漏論道路交通管理處罰條例第86條第1項之規定，於法尚有21未合，惟因基本社會事實尚屬同一，爰依刑事訴訟法第30022條、第95條第1項第1款後段之規定，經本院當庭告知被告23所犯法條及罪名後（見本院卷第219頁），依法變更起訴法24條予以審理。25二被告無駕駛執照駕車因而致人受傷，依法應負過失傷害之刑26事責任，應依道路交通管理處罰條例第86條第1項之規定加27重其刑。28三不適用自首：291.按刑法第62條前段所規定之自首，係以對於未發覺之犯罪自30首而受裁判為要件，故犯罪行為人應於有偵查犯罪職權之公31務員未發覺犯罪事實或犯罪人之前自首犯罪，且接受裁判，５01兩項要件兼備，始得依刑法第62條前段自首之規定減輕其刑02。如於審理中逃匿經發布通緝始歸案，即無接受裁判之意思03，核與刑法第62條前段所規定自首之要件不合（最高法院8604年度台上字第1951號、104年度台上字第2962號判決要旨參05照）。062.查本案被告雖於肇事後，於前往現場處理之警員尚不知何人07犯罪前，主動坦承其為肇事者，有屏東縣政府警察局屏東分08局交通分隊萬丹交通小隊道路交通事故肇事人自首情形紀錄09表1紙附卷可考（見警卷第23頁）；然因被告嗣於本院審理10中逃匿，經本院於110年3月4日發布通緝等情，有本院11110年3月4日110年屏院進刑正緝字第33號通緝書1份在卷12可查（見本院卷第205頁）。是被告於本院審理中既已逃匿13，經發布通緝後始為警方查獲歸案，足認被告並無接受裁判14之意思，核與刑法第62條前段所規定自首之要件不合，本案15自無從依本條規定減輕其刑。16四\n",
      "摘要如下：莊建弘未考領有普通重型機車（起訴書誤載為「普通重型機器腳踏車」，應予更正）駕駛執照，其騎乘車牌號碼普通重型機車，沿屏東縣萬丹鄉萬生村丹榮路由北往南方向行駛（無證據證明於車禍前其行駛於內側禁行機車之快車道），行經丹榮路與大學路之設有行車管制號誌之交岔路口，欲左轉行駛於大學路時，本應注意機車行駛至交岔路口，內側車道設有禁行機車標誌或標線者，應依兩段方式進行左轉，不得由內側或其他車道左轉，且「機慢車兩段左轉」附牌係用以告示左轉大型重型機車以外之機車或慢車駕駛人應遵照號誌指示，在號誌顯示允許直行時先行駛至右前方路口之左轉待轉區等待左轉，俟該方向號誌顯示允許直行後，再行續駛，以兩段方式完成左轉，又機車行駛至交岔路口，其行進、轉彎應遵守燈光號誌，圓形紅燈表示禁止通行，不得超越停止線或進入路口，詎莊建弘於行經上開交岔路口時，竟疏未注意其行向之行車管制號誌顯示為圓形紅燈，即貿然自該內側設有「禁行機車」之快車道逕行闖越紅燈左轉，適有鍾運豐騎乘普通重型機車沿大學路由東往西方向行駛，並依其行向顯示之圓形綠燈駛入上開交岔路口時，兩車閃避不及致兩車車頭發生碰撞，雙方均人車倒地，鍾運豐因而受有下背和骨盆挫傷、右側足部擦傷及右側手肘擦傷等傷害。本院爰審酌被告疏未遵守前揭交通規則而肇致本件車禍，使告訴人受有前揭傷害，所為實有不該；惟念被告犯後於本院訊問程序時終能坦承犯行之態度，考量被告之過失程度、告訴人所受傷勢及其對本案表示請依法處理之意見（見本院卷第59頁）；兼衡被告自述教育程度為國中肄業、職業為臨時工等家庭經濟狀況（見警卷第9頁）之一切情狀，量處如主文所示之刑，並諭知易科罰金之折算標準。\n"
     ]
    }
   ],
   "source": [
    "from sklearn.model_selection import train_test_split\n",
    "import numpy as np\n",
    "\n",
    "# contents = [jud[\"content\"] for jud in glm_dataset]\n",
    "contents = output_segmented\n",
    "summaries = [jud[\"summary\"] for jud in glm_dataset]\n",
    "\n",
    "# Split the dataset into training and testing subsets\n",
    "X_train, X_vld, y_train, y_vld = train_test_split(contents, summaries, test_size=0.2, random_state=42)\n",
    "print(X_train[0])\n",
    "print(y_train[0])\n",
    "\n",
    "new_train_list = [{\"content\": X_train[index], \"summary\": y_train[index]} for index in range(len(X_train))]\n",
    "new_vld_list = [{\"content\": X_vld[index], \"summary\": y_vld[index]} for index in range(len(X_vld))]\n",
    "\n",
    "output_glm_datast(\"20230430_preprocessing1_train.json\", new_train_list)\n",
    "output_glm_datast(\"20230430_preprocessing1_vld.json\", new_vld_list)"
   ]
  },
  {
   "attachments": {},
   "cell_type": "markdown",
   "metadata": {},
   "source": [
    "### Dataset information"
   ]
  },
  {
   "cell_type": "code",
   "execution_count": 2,
   "metadata": {},
   "outputs": [],
   "source": [
    "import matplotlib.pyplot as plt\n",
    "\n",
    "def draw_datasets_bar(dataset_list, dataset_name):\n",
    "    lengths = [len(s) for s in dataset_list]\n",
    "    average_lengths = sum(lengths)/len(lengths)\n",
    "    sorted_lengths = sorted(lengths)\n",
    "    max_lengths = sorted_lengths[-1]\n",
    "    min_lengths = sorted_lengths[0]\n",
    "    print(dataset_name)\n",
    "    print(f\"average: {average_lengths}\")\n",
    "    print(f\"max: {max_lengths}\")\n",
    "    print(f\"min: {min_lengths}\")\n",
    "\n",
    "    # Create a histogram of the string lengths\n",
    "    plt.bar(range(len(dataset_list)), lengths)\n",
    "\n",
    "    # Add labels and title\n",
    "    plt.xlabel('Strings')\n",
    "    plt.ylabel('Length')\n",
    "    plt.title(f'Length of strings in {dataset_name}')\n",
    "\n",
    "    # Add tick labels for x-axis\n",
    "    # First arg means location, Second arg means label on that location\n",
    "    plt.xticks(range(len(lengths)), range(len(lengths)))\n",
    "\n",
    "    # Show the plot\n",
    "    plt.show()\n",
    "def over_length(text_length, dataset):\n",
    "    \n",
    "    return sum([1 for content in dataset if len(content) > text_length])"
   ]
  },
  {
   "attachments": {},
   "cell_type": "markdown",
   "metadata": {},
   "source": [
    "#### After preprocessing 1"
   ]
  },
  {
   "cell_type": "code",
   "execution_count": 61,
   "metadata": {},
   "outputs": [
    {
     "name": "stdout",
     "output_type": "stream",
     "text": [
      "Text length>1500: 93\n",
      "Text length>2000: 63\n",
      "Text length>2500: 46\n",
      "Text length>3000: 33\n",
      "output_segmented\n",
      "average: 1506.0297397769516\n",
      "max: 11839\n",
      "min: 66\n"
     ]
    },
    {
     "data": {
      "image/png": "[encoded data removed]",
      "text/plain": [
       "<Figure size 640x480 with 1 Axes>"
      ]
     },
     "metadata": {},
     "output_type": "display_data"
    }
   ],
   "source": [
    "# Preprocessing 1: Segementatioin between 主文(含) and 綜上所述、據上論斷\n",
    "input_dataset = output_segmented\n",
    "print(\"Text length>1500:\", over_length(1500, input_dataset))\n",
    "print(\"Text length>2000:\", over_length(2000, input_dataset))\n",
    "print(\"Text length>2500:\", over_length(2500, input_dataset))\n",
    "print(\"Text length>3000:\", over_length(3000, input_dataset))\n",
    "draw_datasets_bar(output_segmented, \"output_segmented\")"
   ]
  },
  {
   "attachments": {},
   "cell_type": "markdown",
   "metadata": {},
   "source": [
    "#### 未經過re處理"
   ]
  },
  {
   "cell_type": "code",
   "execution_count": 63,
   "metadata": {},
   "outputs": [
    {
     "name": "stdout",
     "output_type": "stream",
     "text": [
      "Text length>1500: 250\n",
      "Text length>2000: 217\n",
      "Text length>2500: 135\n",
      "Text length>3000: 84\n",
      "content\n",
      "average: 2900.3271375464683\n",
      "max: 12449\n",
      "min: 884\n"
     ]
    },
    {
     "data": {
      "image/png": "[encoded data removed]",
      "text/plain": [
       "<Figure size 640x480 with 1 Axes>"
      ]
     },
     "metadata": {},
     "output_type": "display_data"
    },
    {
     "name": "stdout",
     "output_type": "stream",
     "text": [
      "summary\n",
      "average: 440.9479553903346\n",
      "max: 1615\n",
      "min: 60\n"
     ]
    },
    {
     "data": {
      "image/png": "[encoded data removed]",
      "text/plain": [
       "<Figure size 640x480 with 1 Axes>"
      ]
     },
     "metadata": {},
     "output_type": "display_data"
    }
   ],
   "source": [
    "content_list = [jud[\"content\"] for jud in glm_dataset]\n",
    "summary_list = [jud[\"summary\"] for jud in glm_dataset]\n",
    "\n",
    "input_dataset = content_list\n",
    "print(\"Text length>1500:\", over_length(1500, content_list))\n",
    "print(\"Text length>2000:\", over_length(2000, content_list))\n",
    "print(\"Text length>2500:\", over_length(2500, content_list))\n",
    "print(\"Text length>3000:\", over_length(3000, content_list))\n",
    "draw_datasets_bar(content_list, \"content\")\n",
    "draw_datasets_bar(summary_list, \"summary\")"
   ]
  },
  {
   "attachments": {},
   "cell_type": "markdown",
   "metadata": {},
   "source": [
    "###  測試多線程"
   ]
  },
  {
   "cell_type": "code",
   "execution_count": 9,
   "metadata": {},
   "outputs": [
    {
     "name": "stderr",
     "output_type": "stream",
     "text": [
      "D:\\juds\\200404\\臺北簡易庭民事:  31%|███       | 766/2484 [08:28<21:26,  1.34it/s]                "
     ]
    }
   ],
   "source": [
    "## Final\n",
    "\n",
    "import os\n",
    "import json\n",
    "import csv\n",
    "from concurrent.futures import ThreadPoolExecutor\n",
    "from tqdm import tqdm\n",
    "# 指定根目錄\n",
    "root_dir = r\"D:\\juds\"\n",
    "# 輸出目錄\n",
    "output_dir = r'D:\\\\output_test'  \n",
    "\n",
    "# 初始化列名和數據列表\n",
    "jud_columns = ['JID', 'JYEAR', 'JCASE', 'JNO', 'JDATE', 'JTITLE', 'JFULL', 'JPDF']\n",
    "\n",
    "# 定義工作函數，處理一個資料夾底下的所有JSON文件\n",
    "def process_directory(dir_path):\n",
    "    data = []\n",
    "    for filename in os.listdir(dir_path):\n",
    "        file_path = os.path.join(dir_path, filename)\n",
    "        if os.path.isdir(file_path):\n",
    "            # 如果是子目錄，遞歸處理\n",
    "            data.extend(process_directory(file_path))\n",
    "        elif filename.endswith('.json'):\n",
    "            # 如果是JSON文件，讀取文件內容並添加到數據列表中\n",
    "            with open(file_path, 'r', encoding='utf-8') as f:\n",
    "                json_data = json.load(f)\n",
    "                row = [json_data[column] for column in jud_columns]\n",
    "                data.append(row)\n",
    "    return data\n",
    "\n",
    "# 定義工作函數，將數據寫入CSV文件中\n",
    "def write_csv_file(output_path, data):\n",
    "    splited = output_path.split(\"\\\\\")\n",
    "    new_path = \"\\\\\".join(splited[0:3])+\"\\\\\"+\"_\".join(splited[3:])\n",
    "    with open(new_path, 'w', newline='', encoding='utf-8-sig') as f:\n",
    "        writer = csv.writer(f)\n",
    "        writer.writerow(jud_columns)\n",
    "        writer.writerows(data)\n",
    "\n",
    "# 遍歷根目錄下的所有資料夾，並處理每個資料夾底下的JSON文件\n",
    "with ThreadPoolExecutor(max_workers=16) as executor:\n",
    "    for dirpath, dirnames, filenames in os.walk(root_dir):\n",
    "        futures = []\n",
    "        for filename in filenames:\n",
    "            file_path = os.path.join(dirpath, filename)\n",
    "            if file_path.endswith('.json'):\n",
    "                futures.append(executor.submit(process_directory, dirpath))\n",
    "        results = [f.result() for f in tqdm(futures, desc=dirpath, leave=False) if f.result() != []]\n",
    "\n",
    "        if results != []:\n",
    "            # 處理完畢後，將數據寫入CSV文件中\n",
    "            output_path = os.path.join(output_dir, dirpath.replace(root_dir, '').strip('\\\\') + '.csv')\n",
    "\n",
    "            write_csv_file(output_path, results[0])\n"
   ]
  },
  {
   "cell_type": "code",
   "execution_count": null,
   "metadata": {},
   "outputs": [],
   "source": [
    "# 取消remove_dir_flag註解，設定目前進行到的資料夾路徑original_dirs，即可刪除重複資料夾\n",
    "import os\n",
    "import shutil\n",
    "# Check csv exists\n",
    "output_csv_path = r\"F:\\csv_output\"\n",
    "original_dirs = r\"F:\\判決書txt\\uploaded\\202001--(20230416Update)\"\n",
    "# remove_dir_flag = True\n",
    "def get_file_path(path):\n",
    "    for path in os.scandir(path):\n",
    "        if path.is_dir():\n",
    "            dir_paths.append(path.path)\n",
    "            get_file_path(path)\n",
    "        else:\n",
    "            file_paths.append(path.path)\n",
    "    return file_paths\n",
    "dir_paths = []\n",
    "file_paths = []\n",
    "get_file_path(original_dirs)\n",
    "dir_paths = dir_paths[1:]\n",
    "csv_names = [item.name for item in os.scandir(output_csv_path)]\n",
    "for dir_path in dir_paths:\n",
    "    csv_path = \"_\".join(dir_path.split(\"\\\\\")[3:])+\".csv\"\n",
    "    if csv_path in csv_names and remove_dir_flag:\n",
    "        shutil.rmtree(dir_path)\n",
    "        print(csv_path)"
   ]
  },
  {
   "attachments": {},
   "cell_type": "markdown",
   "metadata": {},
   "source": [
    "### Replace 20230418_merge.json's \n",
    "content -> jud<br />\n",
    "summary -> 摘要如下+original summary"
   ]
  },
  {
   "cell_type": "code",
   "execution_count": null,
   "metadata": {},
   "outputs": [],
   "source": [
    "import os\n",
    "import re\n",
    "\n",
    "root_dir = \"traffic_datasets\"\n",
    "replace_index = [2, 4, 27, 42, 44, 47, 50, 58, 59, 73, 92, 103, 109, 124]\n",
    "replace_file_name = []\n",
    "# ---Read new datasets\n",
    "merged_list = read_glm_dataset(\"20230418_merge.json\")\n",
    "\n",
    "# ---Get replace_file_name\n",
    "replace_filenames = [merged_list[index][\"content\"] for index in replace_index]\n",
    "for dirpath, dirnames, filenames in os.walk(root_dir):\n",
    "    for file in filenames:\n",
    "        stripped = re.sub(\"\\s+\", \"\", file)\n",
    "        if stripped in replace_filenames:\n",
    "            # print(\"---\", replace_filenames.index(stripped), \"---\")\n",
    "            replace_file_name.append(os.path.join(dirpath, file))\n",
    "\n",
    "# Replace content to exact file's content and change summary\n",
    "new_merged_list = merged_list  \n",
    "for index, jud_index in enumerate(replace_index):\n",
    "    \n",
    "    # print(new_merged_list[jud_index][\"content\"])\n",
    "    with open (replace_file_name[index], \"r\") as txt_file:\n",
    "        replaced_content = \"\"\n",
    "        for line in txt_file:\n",
    "            # Replace all special unicode or \\n \\t\n",
    "            replaced_content += re.sub(r\"[\\xa0|\\u3000| ]\", \"\", line.strip())\n",
    "    new_merged_list[jud_index][\"content\"] = replaced_content\n",
    "    new_merged_list[jud_index][\"summary\"] = \"摘要如下：\" + new_merged_list[jud_index][\"summary\"]\n",
    "    # print(new_merged_list[jud_index][\"content\"])\n",
    "    # print()\n",
    "    # print(new_merged_list[jud_index][\"summary\"])\n",
    "    # print(\"-------\")\n",
    "    \n",
    "# # Output new_merged_list to json file\n",
    "# output_glm_datast(\"20230419_merge_replaced.json\", new_merged_list)"
   ]
  },
  {
   "attachments": {},
   "cell_type": "markdown",
   "metadata": {},
   "source": [
    "### Processing 0521_merge.txt"
   ]
  },
  {
   "cell_type": "code",
   "execution_count": 4,
   "metadata": {},
   "outputs": [
    {
     "name": "stdout",
     "output_type": "stream",
     "text": [
      "269\n",
      "<re.Match object; span=(0, 6761), match='01臺灣臺南地方法院刑事判決02109年度交易字第1058號03公訴人臺灣臺南地方檢察署檢察官04>\n"
     ]
    }
   ],
   "source": [
    "# Processing 0521_merge.txt\n",
    "import re\n",
    "\n",
    "# # ---Read file to jud_list\n",
    "# file_name = \"0521_merge.txt\"\n",
    "# with open(file_name, \"r\", encoding=\"utf-8\") as f:\n",
    "#     file_content = f.read()\n",
    "#     jud_list = eval(file_content)\n",
    "# print(len(jud_list))\n",
    "\n",
    "# # ---Create new_jud_list that matches glm dataset's format\n",
    "# new_jud_list = []\n",
    "# replace_index = []\n",
    "# error_index = []\n",
    "# for index, jud in enumerate(jud_list):\n",
    "#     match = re.match(\"(.+)(摘要如下.+)\", jud)   \n",
    "#     if not match:\n",
    "#         match = re.match(\"(.+txt):*(.+)\", jud)\n",
    "#         if not match:\n",
    "#             error_index.append(index)\n",
    "#             continue\n",
    "#         replace_index.append(index)\n",
    "#     new_data = {\"content\":match.group(1), \"summary\":match.group(2)}\n",
    "#     new_jud_list.append(new_data)\n",
    "\n",
    "# ---Output new_jud_list as new json file\n",
    "dataset_name = \"20230418_merge.json\"\n",
    "# output_glm_datast(dataset_name, new_jud_list)\n",
    "\n",
    "# ---Read new datasets\n",
    "merged = read_glm_dataset(dataset_name)\n",
    "print(\"merged:\", len(merged))\n",
    "print(merged[27][\"content\"])\n",
    "\n",
    "# print(len(new_jud_list), len(replace_index), len(error_index))\n",
    "# print(replace_index)"
   ]
  },
  {
   "cell_type": "code",
   "execution_count": null,
   "metadata": {},
   "outputs": [
    {
     "name": "stdout",
     "output_type": "stream",
     "text": [
      "[2, 4, 27, 42, 44, 47, 50, 58, 59, 73, 92, 103, 109, 124]\n",
      "109,交易,158,20210531,1(1)\n",
      "109,交易,277,20210531,1(1)\n",
      "109,竹交簡,954,20201230,1\n",
      "110,交簡,1743,20210803,1(1)\n",
      "110,交簡,1933,20210707,1(1)\n",
      "110,交簡,374,20210705,1(1)\n",
      "110,交簡,85,20210803,1(1)\n",
      "110,嘉交簡,635,20210730,1(1)\n",
      "110,嘉交簡,645,20210730,1(1)\n",
      "110,東交簡,140,20210802,1(1)\n",
      "臺灣士林地方法院110年交易字第17號刑事判決(1)\n",
      "臺灣宜蘭地方法院110年交易字第178號刑事判決(1)\n",
      "臺灣宜蘭地方法院110年交簡字第405號刑事判決(1)\n",
      "臺灣新北地方法院106年交易字第167號刑事判決\n"
     ]
    }
   ],
   "source": [
    "#editted\n",
    "import re\n",
    "txt_index = []\n",
    "for index, jud in enumerate(jud_list):\n",
    "    if re.findall(\"txt\", jud):\n",
    "        txt_index.append(index)\n",
    "print(txt_index)\n",
    "\n",
    "for i in txt_index:\n",
    "    print(re.findall(\"(.+?).txt\", jud_list[i])[0])"
   ]
  }
 ],
 "metadata": {
  "kernelspec": {
   "display_name": "bert_env",
   "language": "python",
   "name": "python3"
  },
  "language_info": {
   "codemirror_mode": {
    "name": "ipython",
    "version": 3
   },
   "file_extension": ".py",
   "mimetype": "text/x-python",
   "name": "python",
   "nbconvert_exporter": "python",
   "pygments_lexer": "ipython3",
   "version": "3.10.11"
  },
  "orig_nbformat": 4
 },
 "nbformat": 4,
 "nbformat_minor": 2
}
